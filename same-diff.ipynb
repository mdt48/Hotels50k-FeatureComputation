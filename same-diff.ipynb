{
 "metadata": {
  "language_info": {
   "codemirror_mode": {
    "name": "ipython",
    "version": 3
   },
   "file_extension": ".py",
   "mimetype": "text/x-python",
   "name": "python",
   "nbconvert_exporter": "python",
   "pygments_lexer": "ipython3",
   "version": "3.7.7"
  },
  "orig_nbformat": 2,
  "kernelspec": {
   "name": "python377jvsc74a57bd0994b011b3b7fc257ae25b3209c9989117239058ef10f0c1a25b88380794b5c8d",
   "display_name": "Python 3.7.7 64-bit"
  }
 },
 "nbformat": 4,
 "nbformat_minor": 2,
 "cells": [
  {
   "cell_type": "code",
   "execution_count": 17,
   "metadata": {},
   "outputs": [],
   "source": [
    "import pandas as pd\n",
    "import sys\n",
    "import pickle\n",
    "from tqdm import tqdm\n",
    "from scipy.spatial import distance\n",
    "import torch\n",
    "import numpy as np"
   ]
  },
  {
   "cell_type": "code",
   "execution_count": 7,
   "metadata": {},
   "outputs": [],
   "source": [
    "nt = pd.read_csv(\"data/test_non_torch/features.csv\", names=[\"Idx\", \"Class\", \"Path\"])\n",
    "nt[\"Img\"] = [row.split(\"/\")[3] for row in nt[\"Path\"]]\n",
    "t = pd.read_csv(\"data/test/features.csv\", names=[\"Idx\", \"Class\", \"Path\"])\n",
    "t[\"Img\"] = [row.split(\"/\")[3] for row in t[\"Path\"]]"
   ]
  },
  {
   "cell_type": "code",
   "execution_count": null,
   "metadata": {},
   "outputs": [],
   "source": [
    "features = sorted(csv[\"Class\"].unique().tolist())\n",
    "sorted(csv[\"Class\"].unique())"
   ]
  },
  {
   "cell_type": "code",
   "execution_count": null,
   "metadata": {},
   "outputs": [],
   "source": [
    "feature_dict = {}\n",
    "for feature in tqdm(features):\n",
    "    cl = csv.loc[csv[\"Class\"] == feature].drop_duplicates()\n",
    "    feature_dict[feature] = []\n",
    "    for idx, row in cl.iterrows():\n",
    "        feature_dict[feature].append( (row[\"Idx\"], row[\"Path\"]) )"
   ]
  },
  {
   "cell_type": "code",
   "execution_count": 8,
   "metadata": {},
   "outputs": [],
   "source": [
    "import glob2\n",
    "import json\n",
    "import os"
   ]
  },
  {
   "cell_type": "code",
   "execution_count": null,
   "metadata": {},
   "outputs": [],
   "source": [
    "csv.loc[csv[\"Class\"] == 24].drop_duplicates()"
   ]
  },
  {
   "cell_type": "code",
   "execution_count": 54,
   "metadata": {},
   "outputs": [],
   "source": [
    "files = glob2.glob(\"data/train/**/*.pt\")"
   ]
  },
  {
   "cell_type": "code",
   "execution_count": 55,
   "metadata": {},
   "outputs": [
    {
     "output_type": "stream",
     "name": "stderr",
     "text": [
      "100%|██████████| 163787/163787 [21:51<00:00, 124.89it/s]\n"
     ]
    }
   ],
   "source": [
    "for file in tqdm(files):\n",
    "    with open(file, \"rb\") as f:\n",
    "        data = pickle.load(f)\n",
    "    # data = torch.load(file)\n",
    "    \n",
    "    # a = torch.load(file, map_location=torch.device('cuda:0'))\n",
    "    os.remove(file)\n",
    "    # a = torch.FloatTensor(data)\n",
    "    # with open(file, \"wb\") as f:\n",
    "    #     data = pickle.dump(data.tolist(), f)\n",
    "    torch.save(a, file)\n",
    "    "
   ]
  },
  {
   "cell_type": "code",
   "execution_count": null,
   "metadata": {},
   "outputs": [],
   "source": [
    "csv.loc[[csv[\"Class\"] == 116]]"
   ]
  },
  {
   "cell_type": "code",
   "execution_count": null,
   "metadata": {},
   "outputs": [],
   "source": [
    "ade = pd.read_csv(\"data/features_150.csv\")\n",
    "for feature in features:\n",
    "    print(str(ade.loc[ade[\"Idx\"] == feature][\"Name\"]))"
   ]
  },
  {
   "cell_type": "code",
   "execution_count": 15,
   "metadata": {},
   "outputs": [],
   "source": [
    "with open(\"data/figures/test_non_torch_take_2\\closest_same_closest_diff/bed\\distribution.pckl\", \"rb\") as f:\n",
    "    data = pickle.load(f)"
   ]
  },
  {
   "cell_type": "code",
   "execution_count": 33,
   "metadata": {},
   "outputs": [],
   "source": [
    "test_data = np.array(np.linspace(0, 1, 20)).reshape(-1,1)"
   ]
  },
  {
   "cell_type": "code",
   "execution_count": 34,
   "metadata": {},
   "outputs": [
    {
     "output_type": "execute_result",
     "data": {
      "text/plain": [
       "array([0.27899891, 0.30120642, 0.32360329, 0.34597754, 0.36810227,\n",
       "       0.3897392 , 0.41064267, 0.43056415, 0.44925706, 0.46648178,\n",
       "       0.48201071, 0.49563323, 0.50716051, 0.51642977, 0.52330817,\n",
       "       0.52769595, 0.52952884, 0.52877962, 0.52545882, 0.51961443])"
      ]
     },
     "metadata": {},
     "execution_count": 34
    }
   ],
   "source": [
    "np.exp(data[0].score_samples(test_data))"
   ]
  },
  {
   "cell_type": "code",
   "execution_count": 36,
   "metadata": {},
   "outputs": [
    {
     "output_type": "execute_result",
     "data": {
      "text/plain": [
       "array([0.41965792, 0.43890753, 0.4568153 , 0.47314945, 0.48769264,\n",
       "       0.50024681, 0.51063761, 0.51871849, 0.52437407, 0.52752293,\n",
       "       0.52811954, 0.52615537, 0.52165908, 0.51469581, 0.50536566,\n",
       "       0.49380124, 0.48016456, 0.46464326, 0.44744631, 0.42879933])"
      ]
     },
     "metadata": {},
     "execution_count": 36
    }
   ],
   "source": [
    "np.exp(data[1].score_samples(test_data))"
   ]
  },
  {
   "cell_type": "code",
   "execution_count": 37,
   "metadata": {},
   "outputs": [
    {
     "output_type": "execute_result",
     "data": {
      "text/plain": [
       "array([-0.14065901, -0.13770111, -0.13321201, -0.12717191, -0.11959036,\n",
       "       -0.1105076 , -0.09999494, -0.08815434, -0.07511701, -0.06104115,\n",
       "       -0.04610884, -0.03052214, -0.01449857,  0.00173396,  0.01794251,\n",
       "        0.03389471,  0.04936427,  0.06413636,  0.07801251,  0.0908151 ])"
      ]
     },
     "metadata": {},
     "execution_count": 37
    }
   ],
   "source": [
    "np.subtract(np.exp(data[0].score_samples(test_data)), np.exp(data[1].score_samples(test_data)))"
   ]
  },
  {
   "cell_type": "code",
   "execution_count": 35,
   "metadata": {},
   "outputs": [
    {
     "output_type": "execute_result",
     "data": {
      "text/plain": [
       "{'algorithm': 'auto',\n",
       " 'atol': 0,\n",
       " 'bandwidth': 0.75,\n",
       " 'breadth_first': True,\n",
       " 'kernel': 'gaussian',\n",
       " 'leaf_size': 40,\n",
       " 'metric': 'euclidean',\n",
       " 'metric_params': None,\n",
       " 'rtol': 0}"
      ]
     },
     "metadata": {},
     "execution_count": 35
    }
   ],
   "source": [
    "data[0].get_params()"
   ]
  },
  {
   "cell_type": "code",
   "execution_count": 31,
   "metadata": {},
   "outputs": [
    {
     "output_type": "execute_result",
     "data": {
      "text/plain": [
       "Text(-3.5, 0.31, 'Gaussian Kernel Density')"
      ]
     },
     "metadata": {},
     "execution_count": 31
    },
    {
     "output_type": "display_data",
     "data": {
      "text/plain": "<Figure size 432x288 with 4 Axes>",
      "image/svg+xml": "<?xml version=\"1.0\" encoding=\"utf-8\" standalone=\"no\"?>\r\n<!DOCTYPE svg PUBLIC \"-//W3C//DTD SVG 1.1//EN\"\r\n  \"http://www.w3.org/Graphics/SVG/1.1/DTD/svg11.dtd\">\r\n<!-- Created with matplotlib (https://matplotlib.org/) -->\r\n<svg height=\"248.518125pt\" version=\"1.1\" viewBox=\"0 0 693.648112 248.518125\" width=\"693.648112pt\" xmlns=\"http://www.w3.org/2000/svg\" xmlns:xlink=\"http://www.w3.org/1999/xlink\">\r\n <metadata>\r\n  <rdf:RDF xmlns:cc=\"http://creativecommons.org/ns#\" xmlns:dc=\"http://purl.org/dc/elements/1.1/\" xmlns:rdf=\"http://www.w3.org/1999/02/22-rdf-syntax-ns#\">\r\n   <cc:Work>\r\n    <dc:type rdf:resource=\"http://purl.org/dc/dcmitype/StillImage\"/>\r\n    <dc:date>2021-04-21T19:34:29.773658</dc:date>\r\n    <dc:format>image/svg+xml</dc:format>\r\n    <dc:creator>\r\n     <cc:Agent>\r\n      <dc:title>Matplotlib v3.3.4, https://matplotlib.org/</dc:title>\r\n     </cc:Agent>\r\n    </dc:creator>\r\n   </cc:Work>\r\n  </rdf:RDF>\r\n </metadata>\r\n <defs>\r\n  <style type=\"text/css\">*{stroke-linecap:butt;stroke-linejoin:round;}</style>\r\n </defs>\r\n <g id=\"figure_1\">\r\n  <g id=\"patch_1\">\r\n   <path d=\"M 0 248.518125 \r\nL 693.648112 248.518125 \r\nL 693.648112 0 \r\nL 0 0 \r\nz\r\n\" style=\"fill:none;\"/>\r\n  </g>\r\n  <g id=\"axes_1\">\r\n   <g id=\"patch_2\">\r\n    <path d=\"M 347.938803 113.268293 \r\nL 511.255876 113.268293 \r\nL 511.255876 7.2 \r\nL 347.938803 7.2 \r\nz\r\n\" style=\"fill:#ffffff;\"/>\r\n   </g>\r\n   <g id=\"matplotlib.axis_1\">\r\n    <g id=\"xtick_1\">\r\n     <g id=\"line2d_1\">\r\n      <defs>\r\n       <path d=\"M 0 0 \r\nL 0 3.5 \r\n\" id=\"m0fa83e9aff\" style=\"stroke:#000000;stroke-width:0.8;\"/>\r\n      </defs>\r\n      <g>\r\n       <use style=\"stroke:#000000;stroke-width:0.8;\" x=\"355.362306\" xlink:href=\"#m0fa83e9aff\" y=\"113.268293\"/>\r\n      </g>\r\n     </g>\r\n    </g>\r\n    <g id=\"xtick_2\">\r\n     <g id=\"line2d_2\">\r\n      <g>\r\n       <use style=\"stroke:#000000;stroke-width:0.8;\" x=\"392.479823\" xlink:href=\"#m0fa83e9aff\" y=\"113.268293\"/>\r\n      </g>\r\n     </g>\r\n    </g>\r\n    <g id=\"xtick_3\">\r\n     <g id=\"line2d_3\">\r\n      <g>\r\n       <use style=\"stroke:#000000;stroke-width:0.8;\" x=\"429.597339\" xlink:href=\"#m0fa83e9aff\" y=\"113.268293\"/>\r\n      </g>\r\n     </g>\r\n    </g>\r\n    <g id=\"xtick_4\">\r\n     <g id=\"line2d_4\">\r\n      <g>\r\n       <use style=\"stroke:#000000;stroke-width:0.8;\" x=\"466.714856\" xlink:href=\"#m0fa83e9aff\" y=\"113.268293\"/>\r\n      </g>\r\n     </g>\r\n    </g>\r\n    <g id=\"xtick_5\">\r\n     <g id=\"line2d_5\">\r\n      <g>\r\n       <use style=\"stroke:#000000;stroke-width:0.8;\" x=\"503.832373\" xlink:href=\"#m0fa83e9aff\" y=\"113.268293\"/>\r\n      </g>\r\n     </g>\r\n    </g>\r\n   </g>\r\n   <g id=\"matplotlib.axis_2\">\r\n    <g id=\"ytick_1\">\r\n     <g id=\"line2d_6\">\r\n      <defs>\r\n       <path d=\"M 0 0 \r\nL -3.5 0 \r\n\" id=\"m1a4c2e9340\" style=\"stroke:#000000;stroke-width:0.8;\"/>\r\n      </defs>\r\n      <g>\r\n       <use style=\"stroke:#000000;stroke-width:0.8;\" x=\"347.938803\" xlink:href=\"#m1a4c2e9340\" y=\"100.365799\"/>\r\n      </g>\r\n     </g>\r\n     <g id=\"text_1\">\r\n      <!-- 0.3 -->\r\n      <g transform=\"translate(325.035678 104.165017)scale(0.1 -0.1)\">\r\n       <defs>\r\n        <path d=\"M 31.78125 66.40625 \r\nQ 24.171875 66.40625 20.328125 58.90625 \r\nQ 16.5 51.421875 16.5 36.375 \r\nQ 16.5 21.390625 20.328125 13.890625 \r\nQ 24.171875 6.390625 31.78125 6.390625 \r\nQ 39.453125 6.390625 43.28125 13.890625 \r\nQ 47.125 21.390625 47.125 36.375 \r\nQ 47.125 51.421875 43.28125 58.90625 \r\nQ 39.453125 66.40625 31.78125 66.40625 \r\nz\r\nM 31.78125 74.21875 \r\nQ 44.046875 74.21875 50.515625 64.515625 \r\nQ 56.984375 54.828125 56.984375 36.375 \r\nQ 56.984375 17.96875 50.515625 8.265625 \r\nQ 44.046875 -1.421875 31.78125 -1.421875 \r\nQ 19.53125 -1.421875 13.0625 8.265625 \r\nQ 6.59375 17.96875 6.59375 36.375 \r\nQ 6.59375 54.828125 13.0625 64.515625 \r\nQ 19.53125 74.21875 31.78125 74.21875 \r\nz\r\n\" id=\"DejaVuSans-48\"/>\r\n        <path d=\"M 10.6875 12.40625 \r\nL 21 12.40625 \r\nL 21 0 \r\nL 10.6875 0 \r\nz\r\n\" id=\"DejaVuSans-46\"/>\r\n        <path d=\"M 40.578125 39.3125 \r\nQ 47.65625 37.796875 51.625 33 \r\nQ 55.609375 28.21875 55.609375 21.1875 \r\nQ 55.609375 10.40625 48.1875 4.484375 \r\nQ 40.765625 -1.421875 27.09375 -1.421875 \r\nQ 22.515625 -1.421875 17.65625 -0.515625 \r\nQ 12.796875 0.390625 7.625 2.203125 \r\nL 7.625 11.71875 \r\nQ 11.71875 9.328125 16.59375 8.109375 \r\nQ 21.484375 6.890625 26.8125 6.890625 \r\nQ 36.078125 6.890625 40.9375 10.546875 \r\nQ 45.796875 14.203125 45.796875 21.1875 \r\nQ 45.796875 27.640625 41.28125 31.265625 \r\nQ 36.765625 34.90625 28.71875 34.90625 \r\nL 20.21875 34.90625 \r\nL 20.21875 43.015625 \r\nL 29.109375 43.015625 \r\nQ 36.375 43.015625 40.234375 45.921875 \r\nQ 44.09375 48.828125 44.09375 54.296875 \r\nQ 44.09375 59.90625 40.109375 62.90625 \r\nQ 36.140625 65.921875 28.71875 65.921875 \r\nQ 24.65625 65.921875 20.015625 65.03125 \r\nQ 15.375 64.15625 9.8125 62.3125 \r\nL 9.8125 71.09375 \r\nQ 15.4375 72.65625 20.34375 73.4375 \r\nQ 25.25 74.21875 29.59375 74.21875 \r\nQ 40.828125 74.21875 47.359375 69.109375 \r\nQ 53.90625 64.015625 53.90625 55.328125 \r\nQ 53.90625 49.265625 50.4375 45.09375 \r\nQ 46.96875 40.921875 40.578125 39.3125 \r\nz\r\n\" id=\"DejaVuSans-51\"/>\r\n       </defs>\r\n       <use xlink:href=\"#DejaVuSans-48\"/>\r\n       <use x=\"63.623047\" xlink:href=\"#DejaVuSans-46\"/>\r\n       <use x=\"95.410156\" xlink:href=\"#DejaVuSans-51\"/>\r\n      </g>\r\n     </g>\r\n    </g>\r\n    <g id=\"ytick_2\">\r\n     <g id=\"line2d_7\">\r\n      <g>\r\n       <use style=\"stroke:#000000;stroke-width:0.8;\" x=\"347.938803\" xlink:href=\"#m1a4c2e9340\" y=\"61.885853\"/>\r\n      </g>\r\n     </g>\r\n     <g id=\"text_2\">\r\n      <!-- 0.4 -->\r\n      <g transform=\"translate(325.035678 65.685072)scale(0.1 -0.1)\">\r\n       <defs>\r\n        <path d=\"M 37.796875 64.3125 \r\nL 12.890625 25.390625 \r\nL 37.796875 25.390625 \r\nz\r\nM 35.203125 72.90625 \r\nL 47.609375 72.90625 \r\nL 47.609375 25.390625 \r\nL 58.015625 25.390625 \r\nL 58.015625 17.1875 \r\nL 47.609375 17.1875 \r\nL 47.609375 0 \r\nL 37.796875 0 \r\nL 37.796875 17.1875 \r\nL 4.890625 17.1875 \r\nL 4.890625 26.703125 \r\nz\r\n\" id=\"DejaVuSans-52\"/>\r\n       </defs>\r\n       <use xlink:href=\"#DejaVuSans-48\"/>\r\n       <use x=\"63.623047\" xlink:href=\"#DejaVuSans-46\"/>\r\n       <use x=\"95.410156\" xlink:href=\"#DejaVuSans-52\"/>\r\n      </g>\r\n     </g>\r\n    </g>\r\n    <g id=\"ytick_3\">\r\n     <g id=\"line2d_8\">\r\n      <g>\r\n       <use style=\"stroke:#000000;stroke-width:0.8;\" x=\"347.938803\" xlink:href=\"#m1a4c2e9340\" y=\"23.405907\"/>\r\n      </g>\r\n     </g>\r\n     <g id=\"text_3\">\r\n      <!-- 0.5 -->\r\n      <g transform=\"translate(325.035678 27.205126)scale(0.1 -0.1)\">\r\n       <defs>\r\n        <path d=\"M 10.796875 72.90625 \r\nL 49.515625 72.90625 \r\nL 49.515625 64.59375 \r\nL 19.828125 64.59375 \r\nL 19.828125 46.734375 \r\nQ 21.96875 47.46875 24.109375 47.828125 \r\nQ 26.265625 48.1875 28.421875 48.1875 \r\nQ 40.625 48.1875 47.75 41.5 \r\nQ 54.890625 34.8125 54.890625 23.390625 \r\nQ 54.890625 11.625 47.5625 5.09375 \r\nQ 40.234375 -1.421875 26.90625 -1.421875 \r\nQ 22.3125 -1.421875 17.546875 -0.640625 \r\nQ 12.796875 0.140625 7.71875 1.703125 \r\nL 7.71875 11.625 \r\nQ 12.109375 9.234375 16.796875 8.0625 \r\nQ 21.484375 6.890625 26.703125 6.890625 \r\nQ 35.15625 6.890625 40.078125 11.328125 \r\nQ 45.015625 15.765625 45.015625 23.390625 \r\nQ 45.015625 31 40.078125 35.4375 \r\nQ 35.15625 39.890625 26.703125 39.890625 \r\nQ 22.75 39.890625 18.8125 39.015625 \r\nQ 14.890625 38.140625 10.796875 36.28125 \r\nz\r\n\" id=\"DejaVuSans-53\"/>\r\n       </defs>\r\n       <use xlink:href=\"#DejaVuSans-48\"/>\r\n       <use x=\"63.623047\" xlink:href=\"#DejaVuSans-46\"/>\r\n       <use x=\"95.410156\" xlink:href=\"#DejaVuSans-53\"/>\r\n      </g>\r\n     </g>\r\n    </g>\r\n   </g>\r\n   <g id=\"patch_3\">\r\n    <path d=\"M 347.938803 113.268293 \r\nL 347.938803 7.2 \r\n\" style=\"fill:none;stroke:#000000;stroke-linecap:square;stroke-linejoin:miter;stroke-width:0.8;\"/>\r\n   </g>\r\n   <g id=\"patch_4\">\r\n    <path d=\"M 511.255876 113.268293 \r\nL 511.255876 7.2 \r\n\" style=\"fill:none;stroke:#000000;stroke-linecap:square;stroke-linejoin:miter;stroke-width:0.8;\"/>\r\n   </g>\r\n   <g id=\"patch_5\">\r\n    <path d=\"M 347.938803 113.268293 \r\nL 511.255876 113.268293 \r\n\" style=\"fill:none;stroke:#000000;stroke-linecap:square;stroke-linejoin:miter;stroke-width:0.8;\"/>\r\n   </g>\r\n   <g id=\"patch_6\">\r\n    <path d=\"M 347.938803 7.2 \r\nL 511.255876 7.2 \r\n\" style=\"fill:none;stroke:#000000;stroke-linecap:square;stroke-linejoin:miter;stroke-width:0.8;\"/>\r\n   </g>\r\n  </g>\r\n  <g id=\"axes_2\">\r\n   <g id=\"patch_7\">\r\n    <path d=\"M 519.421729 113.268293 \r\nL 682.738803 113.268293 \r\nL 682.738803 7.2 \r\nL 519.421729 7.2 \r\nz\r\n\" style=\"fill:#ffffff;\"/>\r\n   </g>\r\n   <g id=\"matplotlib.axis_3\">\r\n    <g id=\"xtick_6\">\r\n     <g id=\"line2d_9\">\r\n      <g>\r\n       <use style=\"stroke:#000000;stroke-width:0.8;\" x=\"526.845233\" xlink:href=\"#m0fa83e9aff\" y=\"113.268293\"/>\r\n      </g>\r\n     </g>\r\n    </g>\r\n    <g id=\"xtick_7\">\r\n     <g id=\"line2d_10\">\r\n      <g>\r\n       <use style=\"stroke:#000000;stroke-width:0.8;\" x=\"563.962749\" xlink:href=\"#m0fa83e9aff\" y=\"113.268293\"/>\r\n      </g>\r\n     </g>\r\n    </g>\r\n    <g id=\"xtick_8\">\r\n     <g id=\"line2d_11\">\r\n      <g>\r\n       <use style=\"stroke:#000000;stroke-width:0.8;\" x=\"601.080266\" xlink:href=\"#m0fa83e9aff\" y=\"113.268293\"/>\r\n      </g>\r\n     </g>\r\n    </g>\r\n    <g id=\"xtick_9\">\r\n     <g id=\"line2d_12\">\r\n      <g>\r\n       <use style=\"stroke:#000000;stroke-width:0.8;\" x=\"638.197783\" xlink:href=\"#m0fa83e9aff\" y=\"113.268293\"/>\r\n      </g>\r\n     </g>\r\n    </g>\r\n    <g id=\"xtick_10\">\r\n     <g id=\"line2d_13\">\r\n      <g>\r\n       <use style=\"stroke:#000000;stroke-width:0.8;\" x=\"675.315299\" xlink:href=\"#m0fa83e9aff\" y=\"113.268293\"/>\r\n      </g>\r\n     </g>\r\n    </g>\r\n   </g>\r\n   <g id=\"matplotlib.axis_4\">\r\n    <g id=\"ytick_4\">\r\n     <g id=\"line2d_14\">\r\n      <g>\r\n       <use style=\"stroke:#000000;stroke-width:0.8;\" x=\"519.421729\" xlink:href=\"#m1a4c2e9340\" y=\"100.365799\"/>\r\n      </g>\r\n     </g>\r\n    </g>\r\n    <g id=\"ytick_5\">\r\n     <g id=\"line2d_15\">\r\n      <g>\r\n       <use style=\"stroke:#000000;stroke-width:0.8;\" x=\"519.421729\" xlink:href=\"#m1a4c2e9340\" y=\"61.885853\"/>\r\n      </g>\r\n     </g>\r\n    </g>\r\n    <g id=\"ytick_6\">\r\n     <g id=\"line2d_16\">\r\n      <g>\r\n       <use style=\"stroke:#000000;stroke-width:0.8;\" x=\"519.421729\" xlink:href=\"#m1a4c2e9340\" y=\"23.405907\"/>\r\n      </g>\r\n     </g>\r\n    </g>\r\n   </g>\r\n   <g id=\"patch_8\">\r\n    <path d=\"M 519.421729 113.268293 \r\nL 519.421729 7.2 \r\n\" style=\"fill:none;stroke:#000000;stroke-linecap:square;stroke-linejoin:miter;stroke-width:0.8;\"/>\r\n   </g>\r\n   <g id=\"patch_9\">\r\n    <path d=\"M 682.738803 113.268293 \r\nL 682.738803 7.2 \r\n\" style=\"fill:none;stroke:#000000;stroke-linecap:square;stroke-linejoin:miter;stroke-width:0.8;\"/>\r\n   </g>\r\n   <g id=\"patch_10\">\r\n    <path d=\"M 519.421729 113.268293 \r\nL 682.738803 113.268293 \r\n\" style=\"fill:none;stroke:#000000;stroke-linecap:square;stroke-linejoin:miter;stroke-width:0.8;\"/>\r\n   </g>\r\n   <g id=\"patch_11\">\r\n    <path d=\"M 519.421729 7.2 \r\nL 682.738803 7.2 \r\n\" style=\"fill:none;stroke:#000000;stroke-linecap:square;stroke-linejoin:miter;stroke-width:0.8;\"/>\r\n   </g>\r\n  </g>\r\n  <g id=\"axes_3\">\r\n   <g id=\"patch_12\">\r\n    <path d=\"M 347.938803 224.64 \r\nL 511.255876 224.64 \r\nL 511.255876 118.571707 \r\nL 347.938803 118.571707 \r\nz\r\n\" style=\"fill:#ffffff;\"/>\r\n   </g>\r\n   <g id=\"matplotlib.axis_5\">\r\n    <g id=\"xtick_11\">\r\n     <g id=\"line2d_17\">\r\n      <g>\r\n       <use style=\"stroke:#000000;stroke-width:0.8;\" x=\"355.362306\" xlink:href=\"#m0fa83e9aff\" y=\"224.64\"/>\r\n      </g>\r\n     </g>\r\n     <g id=\"text_4\">\r\n      <!-- 0.00 -->\r\n      <g transform=\"translate(344.229493 239.238438)scale(0.1 -0.1)\">\r\n       <use xlink:href=\"#DejaVuSans-48\"/>\r\n       <use x=\"63.623047\" xlink:href=\"#DejaVuSans-46\"/>\r\n       <use x=\"95.410156\" xlink:href=\"#DejaVuSans-48\"/>\r\n       <use x=\"159.033203\" xlink:href=\"#DejaVuSans-48\"/>\r\n      </g>\r\n     </g>\r\n    </g>\r\n    <g id=\"xtick_12\">\r\n     <g id=\"line2d_18\">\r\n      <g>\r\n       <use style=\"stroke:#000000;stroke-width:0.8;\" x=\"392.479823\" xlink:href=\"#m0fa83e9aff\" y=\"224.64\"/>\r\n      </g>\r\n     </g>\r\n     <g id=\"text_5\">\r\n      <!-- 0.25 -->\r\n      <g transform=\"translate(381.34701 239.238438)scale(0.1 -0.1)\">\r\n       <defs>\r\n        <path d=\"M 19.1875 8.296875 \r\nL 53.609375 8.296875 \r\nL 53.609375 0 \r\nL 7.328125 0 \r\nL 7.328125 8.296875 \r\nQ 12.9375 14.109375 22.625 23.890625 \r\nQ 32.328125 33.6875 34.8125 36.53125 \r\nQ 39.546875 41.84375 41.421875 45.53125 \r\nQ 43.3125 49.21875 43.3125 52.78125 \r\nQ 43.3125 58.59375 39.234375 62.25 \r\nQ 35.15625 65.921875 28.609375 65.921875 \r\nQ 23.96875 65.921875 18.8125 64.3125 \r\nQ 13.671875 62.703125 7.8125 59.421875 \r\nL 7.8125 69.390625 \r\nQ 13.765625 71.78125 18.9375 73 \r\nQ 24.125 74.21875 28.421875 74.21875 \r\nQ 39.75 74.21875 46.484375 68.546875 \r\nQ 53.21875 62.890625 53.21875 53.421875 \r\nQ 53.21875 48.921875 51.53125 44.890625 \r\nQ 49.859375 40.875 45.40625 35.40625 \r\nQ 44.1875 33.984375 37.640625 27.21875 \r\nQ 31.109375 20.453125 19.1875 8.296875 \r\nz\r\n\" id=\"DejaVuSans-50\"/>\r\n       </defs>\r\n       <use xlink:href=\"#DejaVuSans-48\"/>\r\n       <use x=\"63.623047\" xlink:href=\"#DejaVuSans-46\"/>\r\n       <use x=\"95.410156\" xlink:href=\"#DejaVuSans-50\"/>\r\n       <use x=\"159.033203\" xlink:href=\"#DejaVuSans-53\"/>\r\n      </g>\r\n     </g>\r\n    </g>\r\n    <g id=\"xtick_13\">\r\n     <g id=\"line2d_19\">\r\n      <g>\r\n       <use style=\"stroke:#000000;stroke-width:0.8;\" x=\"429.597339\" xlink:href=\"#m0fa83e9aff\" y=\"224.64\"/>\r\n      </g>\r\n     </g>\r\n     <g id=\"text_6\">\r\n      <!-- 0.50 -->\r\n      <g transform=\"translate(418.464527 239.238438)scale(0.1 -0.1)\">\r\n       <use xlink:href=\"#DejaVuSans-48\"/>\r\n       <use x=\"63.623047\" xlink:href=\"#DejaVuSans-46\"/>\r\n       <use x=\"95.410156\" xlink:href=\"#DejaVuSans-53\"/>\r\n       <use x=\"159.033203\" xlink:href=\"#DejaVuSans-48\"/>\r\n      </g>\r\n     </g>\r\n    </g>\r\n    <g id=\"xtick_14\">\r\n     <g id=\"line2d_20\">\r\n      <g>\r\n       <use style=\"stroke:#000000;stroke-width:0.8;\" x=\"466.714856\" xlink:href=\"#m0fa83e9aff\" y=\"224.64\"/>\r\n      </g>\r\n     </g>\r\n     <g id=\"text_7\">\r\n      <!-- 0.75 -->\r\n      <g transform=\"translate(455.582043 239.238438)scale(0.1 -0.1)\">\r\n       <defs>\r\n        <path d=\"M 8.203125 72.90625 \r\nL 55.078125 72.90625 \r\nL 55.078125 68.703125 \r\nL 28.609375 0 \r\nL 18.3125 0 \r\nL 43.21875 64.59375 \r\nL 8.203125 64.59375 \r\nz\r\n\" id=\"DejaVuSans-55\"/>\r\n       </defs>\r\n       <use xlink:href=\"#DejaVuSans-48\"/>\r\n       <use x=\"63.623047\" xlink:href=\"#DejaVuSans-46\"/>\r\n       <use x=\"95.410156\" xlink:href=\"#DejaVuSans-55\"/>\r\n       <use x=\"159.033203\" xlink:href=\"#DejaVuSans-53\"/>\r\n      </g>\r\n     </g>\r\n    </g>\r\n    <g id=\"xtick_15\">\r\n     <g id=\"line2d_21\">\r\n      <g>\r\n       <use style=\"stroke:#000000;stroke-width:0.8;\" x=\"503.832373\" xlink:href=\"#m0fa83e9aff\" y=\"224.64\"/>\r\n      </g>\r\n     </g>\r\n     <g id=\"text_8\">\r\n      <!-- 1.00 -->\r\n      <g transform=\"translate(492.69956 239.238438)scale(0.1 -0.1)\">\r\n       <defs>\r\n        <path d=\"M 12.40625 8.296875 \r\nL 28.515625 8.296875 \r\nL 28.515625 63.921875 \r\nL 10.984375 60.40625 \r\nL 10.984375 69.390625 \r\nL 28.421875 72.90625 \r\nL 38.28125 72.90625 \r\nL 38.28125 8.296875 \r\nL 54.390625 8.296875 \r\nL 54.390625 0 \r\nL 12.40625 0 \r\nz\r\n\" id=\"DejaVuSans-49\"/>\r\n       </defs>\r\n       <use xlink:href=\"#DejaVuSans-49\"/>\r\n       <use x=\"63.623047\" xlink:href=\"#DejaVuSans-46\"/>\r\n       <use x=\"95.410156\" xlink:href=\"#DejaVuSans-48\"/>\r\n       <use x=\"159.033203\" xlink:href=\"#DejaVuSans-48\"/>\r\n      </g>\r\n     </g>\r\n    </g>\r\n   </g>\r\n   <g id=\"matplotlib.axis_6\">\r\n    <g id=\"ytick_7\">\r\n     <g id=\"line2d_22\">\r\n      <g>\r\n       <use style=\"stroke:#000000;stroke-width:0.8;\" x=\"347.938803\" xlink:href=\"#m1a4c2e9340\" y=\"211.737506\"/>\r\n      </g>\r\n     </g>\r\n     <g id=\"text_9\">\r\n      <!-- 0.3 -->\r\n      <g transform=\"translate(325.035678 215.536725)scale(0.1 -0.1)\">\r\n       <use xlink:href=\"#DejaVuSans-48\"/>\r\n       <use x=\"63.623047\" xlink:href=\"#DejaVuSans-46\"/>\r\n       <use x=\"95.410156\" xlink:href=\"#DejaVuSans-51\"/>\r\n      </g>\r\n     </g>\r\n    </g>\r\n    <g id=\"ytick_8\">\r\n     <g id=\"line2d_23\">\r\n      <g>\r\n       <use style=\"stroke:#000000;stroke-width:0.8;\" x=\"347.938803\" xlink:href=\"#m1a4c2e9340\" y=\"173.25756\"/>\r\n      </g>\r\n     </g>\r\n     <g id=\"text_10\">\r\n      <!-- 0.4 -->\r\n      <g transform=\"translate(325.035678 177.056779)scale(0.1 -0.1)\">\r\n       <use xlink:href=\"#DejaVuSans-48\"/>\r\n       <use x=\"63.623047\" xlink:href=\"#DejaVuSans-46\"/>\r\n       <use x=\"95.410156\" xlink:href=\"#DejaVuSans-52\"/>\r\n      </g>\r\n     </g>\r\n    </g>\r\n    <g id=\"ytick_9\">\r\n     <g id=\"line2d_24\">\r\n      <g>\r\n       <use style=\"stroke:#000000;stroke-width:0.8;\" x=\"347.938803\" xlink:href=\"#m1a4c2e9340\" y=\"134.777615\"/>\r\n      </g>\r\n     </g>\r\n     <g id=\"text_11\">\r\n      <!-- 0.5 -->\r\n      <g transform=\"translate(325.035678 138.576833)scale(0.1 -0.1)\">\r\n       <use xlink:href=\"#DejaVuSans-48\"/>\r\n       <use x=\"63.623047\" xlink:href=\"#DejaVuSans-46\"/>\r\n       <use x=\"95.410156\" xlink:href=\"#DejaVuSans-53\"/>\r\n      </g>\r\n     </g>\r\n    </g>\r\n   </g>\r\n   <g id=\"patch_13\">\r\n    <path d=\"M 347.938803 224.64 \r\nL 347.938803 118.571707 \r\n\" style=\"fill:none;stroke:#000000;stroke-linecap:square;stroke-linejoin:miter;stroke-width:0.8;\"/>\r\n   </g>\r\n   <g id=\"patch_14\">\r\n    <path d=\"M 511.255876 224.64 \r\nL 511.255876 118.571707 \r\n\" style=\"fill:none;stroke:#000000;stroke-linecap:square;stroke-linejoin:miter;stroke-width:0.8;\"/>\r\n   </g>\r\n   <g id=\"patch_15\">\r\n    <path d=\"M 347.938803 224.64 \r\nL 511.255876 224.64 \r\n\" style=\"fill:none;stroke:#000000;stroke-linecap:square;stroke-linejoin:miter;stroke-width:0.8;\"/>\r\n   </g>\r\n   <g id=\"patch_16\">\r\n    <path d=\"M 347.938803 118.571707 \r\nL 511.255876 118.571707 \r\n\" style=\"fill:none;stroke:#000000;stroke-linecap:square;stroke-linejoin:miter;stroke-width:0.8;\"/>\r\n   </g>\r\n  </g>\r\n  <g id=\"axes_4\">\r\n   <g id=\"patch_17\">\r\n    <path d=\"M 519.421729 224.64 \r\nL 682.738803 224.64 \r\nL 682.738803 118.571707 \r\nL 519.421729 118.571707 \r\nz\r\n\" style=\"fill:#ffffff;\"/>\r\n   </g>\r\n   <g id=\"patch_18\">\r\n    <path clip-path=\"url(#p2b1250278b)\" d=\"M 526.845233 219.818714 \r\nL 526.993852 219.65734 \r\nL 527.14247 219.495912 \r\nL 527.291089 219.334432 \r\nL 527.439708 219.1729 \r\nL 527.588326 219.011316 \r\nL 527.736945 218.849681 \r\nL 527.885564 218.687995 \r\nL 528.034182 218.526259 \r\nL 528.182801 218.364473 \r\nL 528.33142 218.202639 \r\nL 528.480038 218.040755 \r\nL 528.628657 217.878824 \r\nL 528.777276 217.716844 \r\nL 528.925894 217.554818 \r\nL 529.074513 217.392745 \r\nL 529.223132 217.230626 \r\nL 529.37175 217.068461 \r\nL 529.520369 216.906251 \r\nL 529.668988 216.743996 \r\nL 529.817607 216.581697 \r\nL 529.966225 216.419354 \r\nL 530.114844 216.256969 \r\nL 530.263463 216.094541 \r\nL 530.412081 215.93207 \r\nL 530.5607 215.769558 \r\nL 530.709319 215.607005 \r\nL 530.857937 215.444412 \r\nL 531.006556 215.281778 \r\nL 531.155175 215.119105 \r\nL 531.303793 214.956392 \r\nL 531.452412 214.793642 \r\nL 531.601031 214.630853 \r\nL 531.749649 214.468027 \r\nL 531.898268 214.305164 \r\nL 532.046887 214.142264 \r\nL 532.195505 213.979329 \r\nL 532.344124 213.816358 \r\nL 532.492743 213.653352 \r\nL 532.641362 213.490312 \r\nL 532.78998 213.327238 \r\nL 532.938599 213.164131 \r\nL 533.087218 213.000992 \r\nL 533.235836 212.837819 \r\nL 533.384455 212.674616 \r\nL 533.533074 212.511381 \r\nL 533.681692 212.348115 \r\nL 533.830311 212.18482 \r\nL 533.97893 212.021495 \r\nL 534.127548 211.85814 \r\nL 534.276167 211.694758 \r\nL 534.424786 211.531347 \r\nL 534.573404 211.367909 \r\nL 534.722023 211.204444 \r\nL 534.870642 211.040953 \r\nL 535.019261 210.877436 \r\nL 535.167879 210.713894 \r\nL 535.316498 210.550327 \r\nL 535.465117 210.386735 \r\nL 535.613735 210.223121 \r\nL 535.762354 210.059483 \r\nL 535.910973 209.895822 \r\nL 536.059591 209.73214 \r\nL 536.20821 209.568436 \r\nL 536.356829 209.404711 \r\nL 536.505447 209.240966 \r\nL 536.654066 209.077201 \r\nL 536.802685 208.913417 \r\nL 536.951303 208.749614 \r\nL 537.099922 208.585793 \r\nL 537.248541 208.421954 \r\nL 537.397159 208.258099 \r\nL 537.545778 208.094227 \r\nL 537.694397 207.930339 \r\nL 537.843016 207.766435 \r\nL 537.991634 207.602517 \r\nL 538.140253 207.438585 \r\nL 538.288872 207.274639 \r\nL 538.43749 207.110679 \r\nL 538.586109 206.946707 \r\nL 538.734728 206.782724 \r\nL 538.883346 206.618728 \r\nL 539.031965 206.454722 \r\nL 539.180584 206.290706 \r\nL 539.329202 206.126679 \r\nL 539.477821 205.962644 \r\nL 539.62644 205.7986 \r\nL 539.775058 205.634548 \r\nL 539.923677 205.470488 \r\nL 540.072296 205.306421 \r\nL 540.220914 205.142349 \r\nL 540.369533 204.97827 \r\nL 540.518152 204.814186 \r\nL 540.666771 204.650098 \r\nL 540.815389 204.486005 \r\nL 540.964008 204.321909 \r\nL 541.112627 204.15781 \r\nL 541.261245 203.993709 \r\nL 541.409864 203.829606 \r\nL 541.558483 203.665502 \r\nL 541.707101 203.501397 \r\nL 541.85572 203.337292 \r\nL 542.004339 203.173188 \r\nL 542.152957 203.009085 \r\nL 542.301576 202.844983 \r\nL 542.450195 202.680884 \r\nL 542.598813 202.516788 \r\nL 542.747432 202.352695 \r\nL 542.896051 202.188606 \r\nL 543.04467 202.024522 \r\nL 543.193288 201.860443 \r\nL 543.341907 201.69637 \r\nL 543.490526 201.532304 \r\nL 543.639144 201.368244 \r\nL 543.787763 201.204192 \r\nL 543.936382 201.040148 \r\nL 544.085 200.876113 \r\nL 544.233619 200.712087 \r\nL 544.382238 200.548071 \r\nL 544.530856 200.384065 \r\nL 544.679475 200.220071 \r\nL 544.828094 200.056088 \r\nL 544.976712 199.892118 \r\nL 545.125331 199.728161 \r\nL 545.27395 199.564217 \r\nL 545.422568 199.400287 \r\nL 545.571187 199.236372 \r\nL 545.719806 199.072472 \r\nL 545.868425 198.908588 \r\nL 546.017043 198.74472 \r\nL 546.165662 198.58087 \r\nL 546.314281 198.417037 \r\nL 546.462899 198.253223 \r\nL 546.611518 198.089427 \r\nL 546.760137 197.925651 \r\nL 546.908755 197.761895 \r\nL 547.057374 197.59816 \r\nL 547.205993 197.434446 \r\nL 547.354611 197.270754 \r\nL 547.50323 197.107084 \r\nL 547.651849 196.943438 \r\nL 547.800467 196.779815 \r\nL 547.949086 196.616217 \r\nL 548.097705 196.452643 \r\nL 548.246323 196.289096 \r\nL 548.394942 196.125574 \r\nL 548.543561 195.962079 \r\nL 548.69218 195.798611 \r\nL 548.840798 195.635172 \r\nL 548.989417 195.471761 \r\nL 549.138036 195.308379 \r\nL 549.286654 195.145027 \r\nL 549.435273 194.981706 \r\nL 549.583892 194.818415 \r\nL 549.73251 194.655156 \r\nL 549.881129 194.49193 \r\nL 550.029748 194.328736 \r\nL 550.178366 194.165576 \r\nL 550.326985 194.00245 \r\nL 550.475604 193.839359 \r\nL 550.624222 193.676304 \r\nL 550.772841 193.513284 \r\nL 550.92146 193.350301 \r\nL 551.070079 193.187355 \r\nL 551.218697 193.024447 \r\nL 551.367316 192.861577 \r\nL 551.515935 192.698747 \r\nL 551.664553 192.535956 \r\nL 551.813172 192.373206 \r\nL 551.961791 192.210496 \r\nL 552.110409 192.047828 \r\nL 552.259028 191.885203 \r\nL 552.407647 191.72262 \r\nL 552.556265 191.560081 \r\nL 552.704884 191.397585 \r\nL 552.853503 191.235135 \r\nL 553.002121 191.07273 \r\nL 553.15074 190.910371 \r\nL 553.299359 190.748058 \r\nL 553.447977 190.585793 \r\nL 553.596596 190.423576 \r\nL 553.745215 190.261407 \r\nL 553.893834 190.099287 \r\nL 554.042452 189.937217 \r\nL 554.191071 189.775197 \r\nL 554.33969 189.613229 \r\nL 554.488308 189.451312 \r\nL 554.636927 189.289447 \r\nL 554.785546 189.127635 \r\nL 554.934164 188.965877 \r\nL 555.082783 188.804173 \r\nL 555.231402 188.642524 \r\nL 555.38002 188.48093 \r\nL 555.528639 188.319392 \r\nL 555.677258 188.157912 \r\nL 555.825876 187.996488 \r\nL 555.974495 187.835122 \r\nL 556.123114 187.673816 \r\nL 556.271732 187.512568 \r\nL 556.420351 187.35138 \r\nL 556.56897 187.190253 \r\nL 556.717589 187.029187 \r\nL 556.866207 186.868183 \r\nL 557.014826 186.707241 \r\nL 557.163445 186.546363 \r\nL 557.312063 186.385548 \r\nL 557.460682 186.224798 \r\nL 557.609301 186.064113 \r\nL 557.757919 185.903493 \r\nL 557.906538 185.74294 \r\nL 558.055157 185.582453 \r\nL 558.203775 185.422035 \r\nL 558.352394 185.261684 \r\nL 558.501013 185.101403 \r\nL 558.649631 184.94119 \r\nL 558.79825 184.781049 \r\nL 558.946869 184.620978 \r\nL 559.095488 184.460978 \r\nL 559.244106 184.301051 \r\nL 559.392725 184.141196 \r\nL 559.541344 183.981415 \r\nL 559.689962 183.821708 \r\nL 559.838581 183.662075 \r\nL 559.9872 183.502518 \r\nL 560.135818 183.343037 \r\nL 560.284437 183.183632 \r\nL 560.433056 183.024305 \r\nL 560.581674 182.865056 \r\nL 560.730293 182.705885 \r\nL 560.878912 182.546794 \r\nL 561.02753 182.387783 \r\nL 561.176149 182.228852 \r\nL 561.324768 182.070002 \r\nL 561.473386 181.911234 \r\nL 561.622005 181.752549 \r\nL 561.770624 181.593946 \r\nL 561.919243 181.435428 \r\nL 562.067861 181.276994 \r\nL 562.21648 181.118645 \r\nL 562.365099 180.960382 \r\nL 562.513717 180.802205 \r\nL 562.662336 180.644115 \r\nL 562.810955 180.486113 \r\nL 562.959573 180.3282 \r\nL 563.108192 180.170375 \r\nL 563.256811 180.01264 \r\nL 563.405429 179.854996 \r\nL 563.554048 179.697442 \r\nL 563.702667 179.53998 \r\nL 563.851285 179.38261 \r\nL 563.999904 179.225334 \r\nL 564.148523 179.06815 \r\nL 564.297141 178.911062 \r\nL 564.44576 178.754068 \r\nL 564.594379 178.597169 \r\nL 564.742998 178.440367 \r\nL 564.891616 178.283662 \r\nL 565.040235 178.127054 \r\nL 565.188854 177.970544 \r\nL 565.337472 177.814133 \r\nL 565.486091 177.657822 \r\nL 565.63471 177.501611 \r\nL 565.783328 177.345501 \r\nL 565.931947 177.189492 \r\nL 566.080566 177.033585 \r\nL 566.229184 176.877781 \r\nL 566.377803 176.722081 \r\nL 566.526422 176.566484 \r\nL 566.67504 176.410993 \r\nL 566.823659 176.255606 \r\nL 566.972278 176.100326 \r\nL 567.120897 175.945153 \r\nL 567.269515 175.790087 \r\nL 567.418134 175.635129 \r\nL 567.566753 175.48028 \r\nL 567.715371 175.32554 \r\nL 567.86399 175.17091 \r\nL 568.012609 175.016391 \r\nL 568.161227 174.861983 \r\nL 568.309846 174.707687 \r\nL 568.458465 174.553504 \r\nL 568.607083 174.399434 \r\nL 568.755702 174.245478 \r\nL 568.904321 174.091637 \r\nL 569.052939 173.937911 \r\nL 569.201558 173.784301 \r\nL 569.350177 173.630807 \r\nL 569.498795 173.477431 \r\nL 569.647414 173.324173 \r\nL 569.796033 173.171033 \r\nL 569.944652 173.018013 \r\nL 570.09327 172.865112 \r\nL 570.241889 172.712332 \r\nL 570.390508 172.559674 \r\nL 570.539126 172.407137 \r\nL 570.687745 172.254723 \r\nL 570.836364 172.102432 \r\nL 570.984982 171.950265 \r\nL 571.133601 171.798222 \r\nL 571.28222 171.646305 \r\nL 571.430838 171.494513 \r\nL 571.579457 171.342848 \r\nL 571.728076 171.19131 \r\nL 571.876694 171.0399 \r\nL 572.025313 170.888618 \r\nL 572.173932 170.737466 \r\nL 572.32255 170.586443 \r\nL 572.471169 170.435551 \r\nL 572.619788 170.28479 \r\nL 572.768407 170.134161 \r\nL 572.917025 169.983664 \r\nL 573.065644 169.8333 \r\nL 573.214263 169.68307 \r\nL 573.362881 169.532974 \r\nL 573.5115 169.383014 \r\nL 573.660119 169.233189 \r\nL 573.808737 169.083501 \r\nL 573.957356 168.933949 \r\nL 574.105975 168.784536 \r\nL 574.254593 168.635261 \r\nL 574.403212 168.486124 \r\nL 574.551831 168.337128 \r\nL 574.700449 168.188272 \r\nL 574.849068 168.039557 \r\nL 574.997687 167.890983 \r\nL 575.146306 167.742552 \r\nL 575.294924 167.594264 \r\nL 575.443543 167.446119 \r\nL 575.592162 167.298119 \r\nL 575.74078 167.150263 \r\nL 575.889399 167.002554 \r\nL 576.038018 166.85499 \r\nL 576.186636 166.707573 \r\nL 576.335255 166.560304 \r\nL 576.483874 166.413184 \r\nL 576.632492 166.266212 \r\nL 576.781111 166.119389 \r\nL 576.92973 165.972717 \r\nL 577.078348 165.826196 \r\nL 577.226967 165.679826 \r\nL 577.375586 165.533609 \r\nL 577.524204 165.387544 \r\nL 577.672823 165.241632 \r\nL 577.821442 165.095875 \r\nL 577.970061 164.950273 \r\nL 578.118679 164.804826 \r\nL 578.267298 164.659535 \r\nL 578.415917 164.514401 \r\nL 578.564535 164.369424 \r\nL 578.713154 164.224605 \r\nL 578.861773 164.079945 \r\nL 579.010391 163.935445 \r\nL 579.15901 163.791104 \r\nL 579.307629 163.646924 \r\nL 579.456247 163.502905 \r\nL 579.604866 163.359049 \r\nL 579.753485 163.215354 \r\nL 579.902103 163.071824 \r\nL 580.050722 162.928457 \r\nL 580.199341 162.785254 \r\nL 580.347959 162.642217 \r\nL 580.496578 162.499346 \r\nL 580.645197 162.356641 \r\nL 580.793816 162.214104 \r\nL 580.942434 162.071734 \r\nL 581.091053 161.929532 \r\nL 581.239672 161.7875 \r\nL 581.38829 161.645638 \r\nL 581.536909 161.503946 \r\nL 581.685528 161.362425 \r\nL 581.834146 161.221075 \r\nL 581.982765 161.079898 \r\nL 582.131384 160.938894 \r\nL 582.280002 160.798064 \r\nL 582.428621 160.657408 \r\nL 582.57724 160.516927 \r\nL 582.725858 160.376621 \r\nL 582.874477 160.236492 \r\nL 583.023096 160.09654 \r\nL 583.171715 159.956765 \r\nL 583.320333 159.817168 \r\nL 583.468952 159.67775 \r\nL 583.617571 159.538511 \r\nL 583.766189 159.399453 \r\nL 583.914808 159.260575 \r\nL 584.063427 159.121878 \r\nL 584.212045 158.983364 \r\nL 584.360664 158.845032 \r\nL 584.509283 158.706883 \r\nL 584.657901 158.568919 \r\nL 584.80652 158.431139 \r\nL 584.955139 158.293544 \r\nL 585.103757 158.156135 \r\nL 585.252376 158.018912 \r\nL 585.400995 157.881876 \r\nL 585.549613 157.745029 \r\nL 585.698232 157.608369 \r\nL 585.846851 157.471899 \r\nL 585.99547 157.335618 \r\nL 586.144088 157.199528 \r\nL 586.292707 157.063628 \r\nL 586.441326 156.92792 \r\nL 586.589944 156.792404 \r\nL 586.738563 156.657081 \r\nL 586.887182 156.521952 \r\nL 587.0358 156.387016 \r\nL 587.184419 156.252276 \r\nL 587.333038 156.11773 \r\nL 587.481656 155.983381 \r\nL 587.630275 155.849228 \r\nL 587.778894 155.715272 \r\nL 587.927512 155.581514 \r\nL 588.076131 155.447955 \r\nL 588.22475 155.314595 \r\nL 588.373368 155.181434 \r\nL 588.521987 155.048474 \r\nL 588.670606 154.915715 \r\nL 588.819225 154.783158 \r\nL 588.967843 154.650802 \r\nL 589.116462 154.51865 \r\nL 589.265081 154.386701 \r\nL 589.413699 154.254956 \r\nL 589.562318 154.123416 \r\nL 589.710937 153.992082 \r\nL 589.859555 153.860953 \r\nL 590.008174 153.730031 \r\nL 590.156793 153.599316 \r\nL 590.305411 153.468808 \r\nL 590.45403 153.33851 \r\nL 590.602649 153.20842 \r\nL 590.751267 153.07854 \r\nL 590.899886 152.948871 \r\nL 591.048505 152.819412 \r\nL 591.197124 152.690165 \r\nL 591.345742 152.56113 \r\nL 591.494361 152.432307 \r\nL 591.64298 152.303698 \r\nL 591.791598 152.175303 \r\nL 591.940217 152.047123 \r\nL 592.088836 151.919158 \r\nL 592.237454 151.791408 \r\nL 592.386073 151.663875 \r\nL 592.534692 151.536559 \r\nL 592.68331 151.409461 \r\nL 592.831929 151.282581 \r\nL 592.980548 151.15592 \r\nL 593.129166 151.029478 \r\nL 593.277785 150.903257 \r\nL 593.426404 150.777256 \r\nL 593.575022 150.651476 \r\nL 593.723641 150.525918 \r\nL 593.87226 150.400583 \r\nL 594.020879 150.27547 \r\nL 594.169497 150.150582 \r\nL 594.318116 150.025918 \r\nL 594.466735 149.901478 \r\nL 594.615353 149.777264 \r\nL 594.763972 149.653276 \r\nL 594.912591 149.529515 \r\nL 595.061209 149.405981 \r\nL 595.209828 149.282675 \r\nL 595.358447 149.159597 \r\nL 595.507065 149.036749 \r\nL 595.655684 148.91413 \r\nL 595.804303 148.791741 \r\nL 595.952921 148.669583 \r\nL 596.10154 148.547657 \r\nL 596.250159 148.425963 \r\nL 596.398777 148.304501 \r\nL 596.547396 148.183272 \r\nL 596.696015 148.062277 \r\nL 596.844634 147.941517 \r\nL 596.993252 147.820991 \r\nL 597.141871 147.700701 \r\nL 597.29049 147.580647 \r\nL 597.439108 147.46083 \r\nL 597.587727 147.34125 \r\nL 597.736346 147.221908 \r\nL 597.884964 147.102804 \r\nL 598.033583 146.98394 \r\nL 598.182202 146.865315 \r\nL 598.33082 146.74693 \r\nL 598.479439 146.628786 \r\nL 598.628058 146.510883 \r\nL 598.776676 146.393222 \r\nL 598.925295 146.275804 \r\nL 599.073914 146.158628 \r\nL 599.222533 146.041697 \r\nL 599.371151 145.925009 \r\nL 599.51977 145.808566 \r\nL 599.668389 145.692369 \r\nL 599.817007 145.576417 \r\nL 599.965626 145.460712 \r\nL 600.114245 145.345254 \r\nL 600.262863 145.230044 \r\nL 600.411482 145.115082 \r\nL 600.560101 145.000368 \r\nL 600.708719 144.885904 \r\nL 600.857338 144.77169 \r\nL 601.005957 144.657726 \r\nL 601.154575 144.544013 \r\nL 601.303194 144.430552 \r\nL 601.451813 144.317342 \r\nL 601.600431 144.204386 \r\nL 601.74905 144.091682 \r\nL 601.897669 143.979233 \r\nL 602.046288 143.867037 \r\nL 602.194906 143.755097 \r\nL 602.343525 143.643412 \r\nL 602.492144 143.531983 \r\nL 602.640762 143.42081 \r\nL 602.789381 143.309895 \r\nL 602.938 143.199237 \r\nL 603.086618 143.088837 \r\nL 603.235237 142.978696 \r\nL 603.383856 142.868815 \r\nL 603.532474 142.759193 \r\nL 603.681093 142.649831 \r\nL 603.829712 142.540731 \r\nL 603.97833 142.431891 \r\nL 604.126949 142.323314 \r\nL 604.275568 142.214999 \r\nL 604.424186 142.106948 \r\nL 604.572805 141.99916 \r\nL 604.721424 141.891636 \r\nL 604.870043 141.784376 \r\nL 605.018661 141.677382 \r\nL 605.16728 141.570654 \r\nL 605.315899 141.464192 \r\nL 605.464517 141.357996 \r\nL 605.613136 141.252068 \r\nL 605.761755 141.146408 \r\nL 605.910373 141.041016 \r\nL 606.058992 140.935893 \r\nL 606.207611 140.831039 \r\nL 606.356229 140.726456 \r\nL 606.504848 140.622142 \r\nL 606.653467 140.5181 \r\nL 606.802085 140.414329 \r\nL 606.950704 140.310831 \r\nL 607.099323 140.207605 \r\nL 607.247942 140.104651 \r\nL 607.39656 140.001972 \r\nL 607.545179 139.899566 \r\nL 607.693798 139.797435 \r\nL 607.842416 139.69558 \r\nL 607.991035 139.593999 \r\nL 608.139654 139.492695 \r\nL 608.288272 139.391668 \r\nL 608.436891 139.290918 \r\nL 608.58551 139.190445 \r\nL 608.734128 139.09025 \r\nL 608.882747 138.990335 \r\nL 609.031366 138.890698 \r\nL 609.179984 138.791341 \r\nL 609.328603 138.692264 \r\nL 609.477222 138.593468 \r\nL 609.62584 138.494953 \r\nL 609.774459 138.396719 \r\nL 609.923078 138.298768 \r\nL 610.071697 138.201099 \r\nL 610.220315 138.103714 \r\nL 610.368934 138.006612 \r\nL 610.517553 137.909794 \r\nL 610.666171 137.813261 \r\nL 610.81479 137.717013 \r\nL 610.963409 137.62105 \r\nL 611.112027 137.525373 \r\nL 611.260646 137.429983 \r\nL 611.409265 137.334881 \r\nL 611.557883 137.240065 \r\nL 611.706502 137.145538 \r\nL 611.855121 137.051299 \r\nL 612.003739 136.957348 \r\nL 612.152358 136.863688 \r\nL 612.300977 136.770317 \r\nL 612.449595 136.677237 \r\nL 612.598214 136.584447 \r\nL 612.746833 136.491949 \r\nL 612.895452 136.399742 \r\nL 613.04407 136.307828 \r\nL 613.192689 136.216206 \r\nL 613.341308 136.124878 \r\nL 613.489926 136.033843 \r\nL 613.638545 135.943102 \r\nL 613.787164 135.852656 \r\nL 613.935782 135.762505 \r\nL 614.084401 135.67265 \r\nL 614.23302 135.58309 \r\nL 614.381638 135.493827 \r\nL 614.530257 135.40486 \r\nL 614.678876 135.316191 \r\nL 614.827494 135.22782 \r\nL 614.976113 135.139746 \r\nL 615.124732 135.051972 \r\nL 615.273351 134.964496 \r\nL 615.421969 134.87732 \r\nL 615.570588 134.790444 \r\nL 615.719207 134.703869 \r\nL 615.867825 134.617594 \r\nL 616.016444 134.531621 \r\nL 616.165063 134.445949 \r\nL 616.313681 134.36058 \r\nL 616.4623 134.275513 \r\nL 616.610919 134.19075 \r\nL 616.759537 134.10629 \r\nL 616.908156 134.022133 \r\nL 617.056775 133.938281 \r\nL 617.205393 133.854734 \r\nL 617.354012 133.771493 \r\nL 617.502631 133.688556 \r\nL 617.651249 133.605926 \r\nL 617.799868 133.523603 \r\nL 617.948487 133.441586 \r\nL 618.097106 133.359876 \r\nL 618.245724 133.278475 \r\nL 618.394343 133.197381 \r\nL 618.542962 133.116597 \r\nL 618.69158 133.036121 \r\nL 618.840199 132.955954 \r\nL 618.988818 132.876098 \r\nL 619.137436 132.796551 \r\nL 619.286055 132.717316 \r\nL 619.434674 132.638391 \r\nL 619.583292 132.559778 \r\nL 619.731911 132.481476 \r\nL 619.88053 132.403487 \r\nL 620.029148 132.325811 \r\nL 620.177767 132.248448 \r\nL 620.326386 132.171398 \r\nL 620.475004 132.094662 \r\nL 620.623623 132.01824 \r\nL 620.772242 131.942133 \r\nL 620.920861 131.866342 \r\nL 621.069479 131.790865 \r\nL 621.218098 131.715704 \r\nL 621.366717 131.64086 \r\nL 621.515335 131.566332 \r\nL 621.663954 131.492121 \r\nL 621.812573 131.418228 \r\nL 621.961191 131.344652 \r\nL 622.10981 131.271395 \r\nL 622.258429 131.198456 \r\nL 622.407047 131.125836 \r\nL 622.555666 131.053535 \r\nL 622.704285 130.981554 \r\nL 622.852903 130.909892 \r\nL 623.001522 130.838552 \r\nL 623.150141 130.767532 \r\nL 623.29876 130.696833 \r\nL 623.447378 130.626455 \r\nL 623.595997 130.5564 \r\nL 623.744616 130.486667 \r\nL 623.893234 130.417256 \r\nL 624.041853 130.348168 \r\nL 624.190472 130.279404 \r\nL 624.33909 130.210963 \r\nL 624.487709 130.142846 \r\nL 624.636328 130.075054 \r\nL 624.784946 130.007586 \r\nL 624.933565 129.940444 \r\nL 625.082184 129.873627 \r\nL 625.230802 129.807135 \r\nL 625.379421 129.74097 \r\nL 625.52804 129.675131 \r\nL 625.676658 129.609619 \r\nL 625.825277 129.544435 \r\nL 625.973896 129.479577 \r\nL 626.122515 129.415048 \r\nL 626.271133 129.350846 \r\nL 626.419752 129.286974 \r\nL 626.568371 129.22343 \r\nL 626.716989 129.160215 \r\nL 626.865608 129.097329 \r\nL 627.014227 129.034774 \r\nL 627.162845 128.972548 \r\nL 627.311464 128.910653 \r\nL 627.460083 128.849089 \r\nL 627.608701 128.787856 \r\nL 627.75732 128.726955 \r\nL 627.905939 128.666385 \r\nL 628.054557 128.606147 \r\nL 628.203176 128.546242 \r\nL 628.351795 128.486669 \r\nL 628.500413 128.427429 \r\nL 628.649032 128.368523 \r\nL 628.797651 128.30995 \r\nL 628.94627 128.251711 \r\nL 629.094888 128.193807 \r\nL 629.243507 128.136237 \r\nL 629.392126 128.079001 \r\nL 629.540744 128.022101 \r\nL 629.689363 127.965537 \r\nL 629.837982 127.909308 \r\nL 629.9866 127.853415 \r\nL 630.135219 127.797859 \r\nL 630.283838 127.742639 \r\nL 630.432456 127.687756 \r\nL 630.581075 127.63321 \r\nL 630.729694 127.579001 \r\nL 630.878312 127.525131 \r\nL 631.026931 127.471598 \r\nL 631.17555 127.418404 \r\nL 631.324169 127.365548 \r\nL 631.472787 127.313032 \r\nL 631.621406 127.260854 \r\nL 631.770025 127.209016 \r\nL 631.918643 127.157518 \r\nL 632.067262 127.106359 \r\nL 632.215881 127.055541 \r\nL 632.364499 127.005063 \r\nL 632.513118 126.954926 \r\nL 632.661737 126.90513 \r\nL 632.810355 126.855676 \r\nL 632.958974 126.806563 \r\nL 633.107593 126.757792 \r\nL 633.256211 126.709362 \r\nL 633.40483 126.661276 \r\nL 633.553449 126.613531 \r\nL 633.702067 126.56613 \r\nL 633.850686 126.519072 \r\nL 633.999305 126.472357 \r\nL 634.147924 126.425986 \r\nL 634.296542 126.379958 \r\nL 634.445161 126.334275 \r\nL 634.59378 126.288935 \r\nL 634.742398 126.243941 \r\nL 634.891017 126.199291 \r\nL 635.039636 126.154986 \r\nL 635.188254 126.111027 \r\nL 635.336873 126.067412 \r\nL 635.485492 126.024144 \r\nL 635.63411 125.981222 \r\nL 635.782729 125.938646 \r\nL 635.931348 125.896416 \r\nL 636.079966 125.854532 \r\nL 636.228585 125.812996 \r\nL 636.377204 125.771807 \r\nL 636.525822 125.730965 \r\nL 636.674441 125.69047 \r\nL 636.82306 125.650323 \r\nL 636.971679 125.610525 \r\nL 637.120297 125.571074 \r\nL 637.268916 125.531971 \r\nL 637.417535 125.493217 \r\nL 637.566153 125.454812 \r\nL 637.714772 125.416756 \r\nL 637.863391 125.379049 \r\nL 638.012009 125.341692 \r\nL 638.160628 125.304683 \r\nL 638.309247 125.268025 \r\nL 638.457865 125.231717 \r\nL 638.606484 125.195758 \r\nL 638.755103 125.16015 \r\nL 638.903721 125.124893 \r\nL 639.05234 125.089986 \r\nL 639.200959 125.055431 \r\nL 639.349578 125.021226 \r\nL 639.498196 124.987372 \r\nL 639.646815 124.95387 \r\nL 639.795434 124.92072 \r\nL 639.944052 124.887921 \r\nL 640.092671 124.855474 \r\nL 640.24129 124.82338 \r\nL 640.389908 124.791638 \r\nL 640.538527 124.760248 \r\nL 640.687146 124.729211 \r\nL 640.835764 124.698526 \r\nL 640.984383 124.668195 \r\nL 641.133002 124.638217 \r\nL 641.28162 124.608592 \r\nL 641.430239 124.57932 \r\nL 641.578858 124.550402 \r\nL 641.727476 124.521838 \r\nL 641.876095 124.493628 \r\nL 642.024714 124.465772 \r\nL 642.173333 124.43827 \r\nL 642.321951 124.411122 \r\nL 642.47057 124.384329 \r\nL 642.619189 124.35789 \r\nL 642.767807 124.331807 \r\nL 642.916426 124.306078 \r\nL 643.065045 124.280704 \r\nL 643.213663 124.255686 \r\nL 643.362282 124.231022 \r\nL 643.510901 124.206715 \r\nL 643.659519 124.182763 \r\nL 643.808138 124.159166 \r\nL 643.956757 124.135925 \r\nL 644.105375 124.113041 \r\nL 644.253994 124.090512 \r\nL 644.402613 124.06834 \r\nL 644.551231 124.046524 \r\nL 644.69985 124.025064 \r\nL 644.848469 124.003961 \r\nL 644.997088 123.983215 \r\nL 645.145706 123.962825 \r\nL 645.294325 123.942793 \r\nL 645.442944 123.923117 \r\nL 645.591562 123.903798 \r\nL 645.740181 123.884837 \r\nL 645.8888 123.866233 \r\nL 646.037418 123.847986 \r\nL 646.186037 123.830097 \r\nL 646.334656 123.812565 \r\nL 646.483274 123.795392 \r\nL 646.631893 123.778575 \r\nL 646.780512 123.762117 \r\nL 646.92913 123.746017 \r\nL 647.077749 123.730275 \r\nL 647.226368 123.714891 \r\nL 647.374987 123.699865 \r\nL 647.523605 123.685197 \r\nL 647.672224 123.670888 \r\nL 647.820843 123.656937 \r\nL 647.969461 123.643345 \r\nL 648.11808 123.630112 \r\nL 648.266699 123.617237 \r\nL 648.415317 123.604721 \r\nL 648.563936 123.592563 \r\nL 648.712555 123.580765 \r\nL 648.861173 123.569325 \r\nL 649.009792 123.558245 \r\nL 649.158411 123.547523 \r\nL 649.307029 123.537161 \r\nL 649.455648 123.527158 \r\nL 649.604267 123.517514 \r\nL 649.752885 123.508229 \r\nL 649.901504 123.499304 \r\nL 650.050123 123.490738 \r\nL 650.198742 123.482531 \r\nL 650.34736 123.474684 \r\nL 650.495979 123.467197 \r\nL 650.644598 123.460069 \r\nL 650.793216 123.4533 \r\nL 650.941835 123.446892 \r\nL 651.090454 123.440843 \r\nL 651.239072 123.435153 \r\nL 651.387691 123.429824 \r\nL 651.53631 123.424854 \r\nL 651.684928 123.420244 \r\nL 651.833547 123.415993 \r\nL 651.982166 123.412103 \r\nL 652.130784 123.408572 \r\nL 652.279403 123.405402 \r\nL 652.428022 123.402591 \r\nL 652.57664 123.40014 \r\nL 652.725259 123.398049 \r\nL 652.873878 123.396318 \r\nL 653.022497 123.394947 \r\nL 653.171115 123.393936 \r\nL 653.319734 123.393285 \r\nL 653.468353 123.392993 \r\nL 653.616971 123.393062 \r\nL 653.76559 123.393491 \r\nL 653.914209 123.39428 \r\nL 654.062827 123.395428 \r\nL 654.211446 123.396937 \r\nL 654.360065 123.398806 \r\nL 654.508683 123.401034 \r\nL 654.657302 123.403623 \r\nL 654.805921 123.406571 \r\nL 654.954539 123.40988 \r\nL 655.103158 123.413548 \r\nL 655.251777 123.417576 \r\nL 655.400396 123.421964 \r\nL 655.549014 123.426712 \r\nL 655.697633 123.431819 \r\nL 655.846252 123.437287 \r\nL 655.99487 123.443114 \r\nL 656.143489 123.449301 \r\nL 656.292108 123.455847 \r\nL 656.440726 123.462754 \r\nL 656.589345 123.47002 \r\nL 656.737964 123.477645 \r\nL 656.886582 123.48563 \r\nL 657.035201 123.493975 \r\nL 657.18382 123.502679 \r\nL 657.332438 123.511742 \r\nL 657.481057 123.521165 \r\nL 657.629676 123.530947 \r\nL 657.778294 123.541088 \r\nL 657.926913 123.551589 \r\nL 658.075532 123.562449 \r\nL 658.224151 123.573668 \r\nL 658.372769 123.585245 \r\nL 658.521388 123.597182 \r\nL 658.670007 123.609478 \r\nL 658.818625 123.622133 \r\nL 658.967244 123.635146 \r\nL 659.115863 123.648519 \r\nL 659.264481 123.66225 \r\nL 659.4131 123.676339 \r\nL 659.561719 123.690787 \r\nL 659.710337 123.705594 \r\nL 659.858956 123.720758 \r\nL 660.007575 123.736282 \r\nL 660.156193 123.752163 \r\nL 660.304812 123.768402 \r\nL 660.453431 123.785 \r\nL 660.602049 123.801955 \r\nL 660.750668 123.819269 \r\nL 660.899287 123.83694 \r\nL 661.047906 123.854968 \r\nL 661.196524 123.873355 \r\nL 661.345143 123.892099 \r\nL 661.493762 123.9112 \r\nL 661.64238 123.930658 \r\nL 661.790999 123.950474 \r\nL 661.939618 123.970647 \r\nL 662.088236 123.991176 \r\nL 662.236855 124.012063 \r\nL 662.385474 124.033306 \r\nL 662.534092 124.054907 \r\nL 662.682711 124.076863 \r\nL 662.83133 124.099176 \r\nL 662.979948 124.121845 \r\nL 663.128567 124.144871 \r\nL 663.277186 124.168252 \r\nL 663.425805 124.19199 \r\nL 663.574423 124.216083 \r\nL 663.723042 124.240532 \r\nL 663.871661 124.265337 \r\nL 664.020279 124.290497 \r\nL 664.168898 124.316012 \r\nL 664.317517 124.341883 \r\nL 664.466135 124.368108 \r\nL 664.614754 124.394689 \r\nL 664.763373 124.421624 \r\nL 664.911991 124.448914 \r\nL 665.06061 124.476558 \r\nL 665.209229 124.504556 \r\nL 665.357847 124.532909 \r\nL 665.506466 124.561616 \r\nL 665.655085 124.590677 \r\nL 665.803703 124.620091 \r\nL 665.952322 124.649859 \r\nL 666.100941 124.67998 \r\nL 666.24956 124.710455 \r\nL 666.398178 124.741283 \r\nL 666.546797 124.772464 \r\nL 666.695416 124.803997 \r\nL 666.844034 124.835883 \r\nL 666.992653 124.868122 \r\nL 667.141272 124.900713 \r\nL 667.28989 124.933655 \r\nL 667.438509 124.96695 \r\nL 667.587128 125.000597 \r\nL 667.735746 125.034595 \r\nL 667.884365 125.068945 \r\nL 668.032984 125.103645 \r\nL 668.181602 125.138697 \r\nL 668.330221 125.1741 \r\nL 668.47884 125.209853 \r\nL 668.627459 125.245957 \r\nL 668.776077 125.282411 \r\nL 668.924696 125.319216 \r\nL 669.073315 125.35637 \r\nL 669.221933 125.393874 \r\nL 669.370552 125.431727 \r\nL 669.519171 125.46993 \r\nL 669.667789 125.508482 \r\nL 669.816408 125.547383 \r\nL 669.965027 125.586632 \r\nL 670.113645 125.62623 \r\nL 670.262264 125.666176 \r\nL 670.410883 125.706471 \r\nL 670.559501 125.747113 \r\nL 670.70812 125.788103 \r\nL 670.856739 125.82944 \r\nL 671.005357 125.871125 \r\nL 671.153976 125.913157 \r\nL 671.302595 125.955535 \r\nL 671.451214 125.99826 \r\nL 671.599832 126.041332 \r\nL 671.748451 126.084749 \r\nL 671.89707 126.128513 \r\nL 672.045688 126.172622 \r\nL 672.194307 126.217076 \r\nL 672.342926 126.261876 \r\nL 672.491544 126.307021 \r\nL 672.640163 126.35251 \r\nL 672.788782 126.398344 \r\nL 672.9374 126.444522 \r\nL 673.086019 126.491045 \r\nL 673.234638 126.537911 \r\nL 673.383256 126.58512 \r\nL 673.531875 126.632673 \r\nL 673.680494 126.680569 \r\nL 673.829112 126.728808 \r\nL 673.977731 126.777389 \r\nL 674.12635 126.826313 \r\nL 674.274969 126.875578 \r\nL 674.423587 126.925185 \r\nL 674.572206 126.975134 \r\nL 674.720825 127.025424 \r\nL 674.869443 127.076055 \r\nL 675.018062 127.127027 \r\nL 675.166681 127.17834 \r\nL 675.315299 127.229992 \r\nz\r\n\" style=\"fill:#aaaaff;\"/>\r\n   </g>\r\n   <g id=\"matplotlib.axis_7\">\r\n    <g id=\"xtick_16\">\r\n     <g id=\"line2d_25\">\r\n      <g>\r\n       <use style=\"stroke:#000000;stroke-width:0.8;\" x=\"526.845233\" xlink:href=\"#m0fa83e9aff\" y=\"224.64\"/>\r\n      </g>\r\n     </g>\r\n     <g id=\"text_12\">\r\n      <!-- 0.00 -->\r\n      <g transform=\"translate(515.71242 239.238438)scale(0.1 -0.1)\">\r\n       <use xlink:href=\"#DejaVuSans-48\"/>\r\n       <use x=\"63.623047\" xlink:href=\"#DejaVuSans-46\"/>\r\n       <use x=\"95.410156\" xlink:href=\"#DejaVuSans-48\"/>\r\n       <use x=\"159.033203\" xlink:href=\"#DejaVuSans-48\"/>\r\n      </g>\r\n     </g>\r\n    </g>\r\n    <g id=\"xtick_17\">\r\n     <g id=\"line2d_26\">\r\n      <g>\r\n       <use style=\"stroke:#000000;stroke-width:0.8;\" x=\"563.962749\" xlink:href=\"#m0fa83e9aff\" y=\"224.64\"/>\r\n      </g>\r\n     </g>\r\n     <g id=\"text_13\">\r\n      <!-- 0.25 -->\r\n      <g transform=\"translate(552.829937 239.238438)scale(0.1 -0.1)\">\r\n       <use xlink:href=\"#DejaVuSans-48\"/>\r\n       <use x=\"63.623047\" xlink:href=\"#DejaVuSans-46\"/>\r\n       <use x=\"95.410156\" xlink:href=\"#DejaVuSans-50\"/>\r\n       <use x=\"159.033203\" xlink:href=\"#DejaVuSans-53\"/>\r\n      </g>\r\n     </g>\r\n    </g>\r\n    <g id=\"xtick_18\">\r\n     <g id=\"line2d_27\">\r\n      <g>\r\n       <use style=\"stroke:#000000;stroke-width:0.8;\" x=\"601.080266\" xlink:href=\"#m0fa83e9aff\" y=\"224.64\"/>\r\n      </g>\r\n     </g>\r\n     <g id=\"text_14\">\r\n      <!-- 0.50 -->\r\n      <g transform=\"translate(589.947454 239.238438)scale(0.1 -0.1)\">\r\n       <use xlink:href=\"#DejaVuSans-48\"/>\r\n       <use x=\"63.623047\" xlink:href=\"#DejaVuSans-46\"/>\r\n       <use x=\"95.410156\" xlink:href=\"#DejaVuSans-53\"/>\r\n       <use x=\"159.033203\" xlink:href=\"#DejaVuSans-48\"/>\r\n      </g>\r\n     </g>\r\n    </g>\r\n    <g id=\"xtick_19\">\r\n     <g id=\"line2d_28\">\r\n      <g>\r\n       <use style=\"stroke:#000000;stroke-width:0.8;\" x=\"638.197783\" xlink:href=\"#m0fa83e9aff\" y=\"224.64\"/>\r\n      </g>\r\n     </g>\r\n     <g id=\"text_15\">\r\n      <!-- 0.75 -->\r\n      <g transform=\"translate(627.06497 239.238438)scale(0.1 -0.1)\">\r\n       <use xlink:href=\"#DejaVuSans-48\"/>\r\n       <use x=\"63.623047\" xlink:href=\"#DejaVuSans-46\"/>\r\n       <use x=\"95.410156\" xlink:href=\"#DejaVuSans-55\"/>\r\n       <use x=\"159.033203\" xlink:href=\"#DejaVuSans-53\"/>\r\n      </g>\r\n     </g>\r\n    </g>\r\n    <g id=\"xtick_20\">\r\n     <g id=\"line2d_29\">\r\n      <g>\r\n       <use style=\"stroke:#000000;stroke-width:0.8;\" x=\"675.315299\" xlink:href=\"#m0fa83e9aff\" y=\"224.64\"/>\r\n      </g>\r\n     </g>\r\n     <g id=\"text_16\">\r\n      <!-- 1.00 -->\r\n      <g transform=\"translate(664.182487 239.238438)scale(0.1 -0.1)\">\r\n       <use xlink:href=\"#DejaVuSans-49\"/>\r\n       <use x=\"63.623047\" xlink:href=\"#DejaVuSans-46\"/>\r\n       <use x=\"95.410156\" xlink:href=\"#DejaVuSans-48\"/>\r\n       <use x=\"159.033203\" xlink:href=\"#DejaVuSans-48\"/>\r\n      </g>\r\n     </g>\r\n    </g>\r\n   </g>\r\n   <g id=\"matplotlib.axis_8\">\r\n    <g id=\"ytick_10\">\r\n     <g id=\"line2d_30\">\r\n      <g>\r\n       <use style=\"stroke:#000000;stroke-width:0.8;\" x=\"519.421729\" xlink:href=\"#m1a4c2e9340\" y=\"211.737506\"/>\r\n      </g>\r\n     </g>\r\n    </g>\r\n    <g id=\"ytick_11\">\r\n     <g id=\"line2d_31\">\r\n      <g>\r\n       <use style=\"stroke:#000000;stroke-width:0.8;\" x=\"519.421729\" xlink:href=\"#m1a4c2e9340\" y=\"173.25756\"/>\r\n      </g>\r\n     </g>\r\n    </g>\r\n    <g id=\"ytick_12\">\r\n     <g id=\"line2d_32\">\r\n      <g>\r\n       <use style=\"stroke:#000000;stroke-width:0.8;\" x=\"519.421729\" xlink:href=\"#m1a4c2e9340\" y=\"134.777615\"/>\r\n      </g>\r\n     </g>\r\n    </g>\r\n   </g>\r\n   <g id=\"patch_19\">\r\n    <path d=\"M 519.421729 224.64 \r\nL 519.421729 118.571707 \r\n\" style=\"fill:none;stroke:#000000;stroke-linecap:square;stroke-linejoin:miter;stroke-width:0.8;\"/>\r\n   </g>\r\n   <g id=\"patch_20\">\r\n    <path d=\"M 682.738803 224.64 \r\nL 682.738803 118.571707 \r\n\" style=\"fill:none;stroke:#000000;stroke-linecap:square;stroke-linejoin:miter;stroke-width:0.8;\"/>\r\n   </g>\r\n   <g id=\"patch_21\">\r\n    <path d=\"M 519.421729 224.64 \r\nL 682.738803 224.64 \r\n\" style=\"fill:none;stroke:#000000;stroke-linecap:square;stroke-linejoin:miter;stroke-width:0.8;\"/>\r\n   </g>\r\n   <g id=\"patch_22\">\r\n    <path d=\"M 519.421729 118.571707 \r\nL 682.738803 118.571707 \r\n\" style=\"fill:none;stroke:#000000;stroke-linecap:square;stroke-linejoin:miter;stroke-width:0.8;\"/>\r\n   </g>\r\n   <g id=\"text_17\">\r\n    <!-- Gaussian Kernel Density -->\r\n    <g transform=\"translate(7.2 207.889511)scale(0.1 -0.1)\">\r\n     <defs>\r\n      <path d=\"M 59.515625 10.40625 \r\nL 59.515625 29.984375 \r\nL 43.40625 29.984375 \r\nL 43.40625 38.09375 \r\nL 69.28125 38.09375 \r\nL 69.28125 6.78125 \r\nQ 63.578125 2.734375 56.6875 0.65625 \r\nQ 49.8125 -1.421875 42 -1.421875 \r\nQ 24.90625 -1.421875 15.25 8.5625 \r\nQ 5.609375 18.5625 5.609375 36.375 \r\nQ 5.609375 54.25 15.25 64.234375 \r\nQ 24.90625 74.21875 42 74.21875 \r\nQ 49.125 74.21875 55.546875 72.453125 \r\nQ 61.96875 70.703125 67.390625 67.28125 \r\nL 67.390625 56.78125 \r\nQ 61.921875 61.421875 55.765625 63.765625 \r\nQ 49.609375 66.109375 42.828125 66.109375 \r\nQ 29.4375 66.109375 22.71875 58.640625 \r\nQ 16.015625 51.171875 16.015625 36.375 \r\nQ 16.015625 21.625 22.71875 14.15625 \r\nQ 29.4375 6.6875 42.828125 6.6875 \r\nQ 48.046875 6.6875 52.140625 7.59375 \r\nQ 56.25 8.5 59.515625 10.40625 \r\nz\r\n\" id=\"DejaVuSans-71\"/>\r\n      <path d=\"M 34.28125 27.484375 \r\nQ 23.390625 27.484375 19.1875 25 \r\nQ 14.984375 22.515625 14.984375 16.5 \r\nQ 14.984375 11.71875 18.140625 8.90625 \r\nQ 21.296875 6.109375 26.703125 6.109375 \r\nQ 34.1875 6.109375 38.703125 11.40625 \r\nQ 43.21875 16.703125 43.21875 25.484375 \r\nL 43.21875 27.484375 \r\nz\r\nM 52.203125 31.203125 \r\nL 52.203125 0 \r\nL 43.21875 0 \r\nL 43.21875 8.296875 \r\nQ 40.140625 3.328125 35.546875 0.953125 \r\nQ 30.953125 -1.421875 24.3125 -1.421875 \r\nQ 15.921875 -1.421875 10.953125 3.296875 \r\nQ 6 8.015625 6 15.921875 \r\nQ 6 25.140625 12.171875 29.828125 \r\nQ 18.359375 34.515625 30.609375 34.515625 \r\nL 43.21875 34.515625 \r\nL 43.21875 35.40625 \r\nQ 43.21875 41.609375 39.140625 45 \r\nQ 35.0625 48.390625 27.6875 48.390625 \r\nQ 23 48.390625 18.546875 47.265625 \r\nQ 14.109375 46.140625 10.015625 43.890625 \r\nL 10.015625 52.203125 \r\nQ 14.9375 54.109375 19.578125 55.046875 \r\nQ 24.21875 56 28.609375 56 \r\nQ 40.484375 56 46.34375 49.84375 \r\nQ 52.203125 43.703125 52.203125 31.203125 \r\nz\r\n\" id=\"DejaVuSans-97\"/>\r\n      <path d=\"M 8.5 21.578125 \r\nL 8.5 54.6875 \r\nL 17.484375 54.6875 \r\nL 17.484375 21.921875 \r\nQ 17.484375 14.15625 20.5 10.265625 \r\nQ 23.53125 6.390625 29.59375 6.390625 \r\nQ 36.859375 6.390625 41.078125 11.03125 \r\nQ 45.3125 15.671875 45.3125 23.6875 \r\nL 45.3125 54.6875 \r\nL 54.296875 54.6875 \r\nL 54.296875 0 \r\nL 45.3125 0 \r\nL 45.3125 8.40625 \r\nQ 42.046875 3.421875 37.71875 1 \r\nQ 33.40625 -1.421875 27.6875 -1.421875 \r\nQ 18.265625 -1.421875 13.375 4.4375 \r\nQ 8.5 10.296875 8.5 21.578125 \r\nz\r\nM 31.109375 56 \r\nz\r\n\" id=\"DejaVuSans-117\"/>\r\n      <path d=\"M 44.28125 53.078125 \r\nL 44.28125 44.578125 \r\nQ 40.484375 46.53125 36.375 47.5 \r\nQ 32.28125 48.484375 27.875 48.484375 \r\nQ 21.1875 48.484375 17.84375 46.4375 \r\nQ 14.5 44.390625 14.5 40.28125 \r\nQ 14.5 37.15625 16.890625 35.375 \r\nQ 19.28125 33.59375 26.515625 31.984375 \r\nL 29.59375 31.296875 \r\nQ 39.15625 29.25 43.1875 25.515625 \r\nQ 47.21875 21.78125 47.21875 15.09375 \r\nQ 47.21875 7.46875 41.1875 3.015625 \r\nQ 35.15625 -1.421875 24.609375 -1.421875 \r\nQ 20.21875 -1.421875 15.453125 -0.5625 \r\nQ 10.6875 0.296875 5.421875 2 \r\nL 5.421875 11.28125 \r\nQ 10.40625 8.6875 15.234375 7.390625 \r\nQ 20.0625 6.109375 24.8125 6.109375 \r\nQ 31.15625 6.109375 34.5625 8.28125 \r\nQ 37.984375 10.453125 37.984375 14.40625 \r\nQ 37.984375 18.0625 35.515625 20.015625 \r\nQ 33.0625 21.96875 24.703125 23.78125 \r\nL 21.578125 24.515625 \r\nQ 13.234375 26.265625 9.515625 29.90625 \r\nQ 5.8125 33.546875 5.8125 39.890625 \r\nQ 5.8125 47.609375 11.28125 51.796875 \r\nQ 16.75 56 26.8125 56 \r\nQ 31.78125 56 36.171875 55.265625 \r\nQ 40.578125 54.546875 44.28125 53.078125 \r\nz\r\n\" id=\"DejaVuSans-115\"/>\r\n      <path d=\"M 9.421875 54.6875 \r\nL 18.40625 54.6875 \r\nL 18.40625 0 \r\nL 9.421875 0 \r\nz\r\nM 9.421875 75.984375 \r\nL 18.40625 75.984375 \r\nL 18.40625 64.59375 \r\nL 9.421875 64.59375 \r\nz\r\n\" id=\"DejaVuSans-105\"/>\r\n      <path d=\"M 54.890625 33.015625 \r\nL 54.890625 0 \r\nL 45.90625 0 \r\nL 45.90625 32.71875 \r\nQ 45.90625 40.484375 42.875 44.328125 \r\nQ 39.84375 48.1875 33.796875 48.1875 \r\nQ 26.515625 48.1875 22.3125 43.546875 \r\nQ 18.109375 38.921875 18.109375 30.90625 \r\nL 18.109375 0 \r\nL 9.078125 0 \r\nL 9.078125 54.6875 \r\nL 18.109375 54.6875 \r\nL 18.109375 46.1875 \r\nQ 21.34375 51.125 25.703125 53.5625 \r\nQ 30.078125 56 35.796875 56 \r\nQ 45.21875 56 50.046875 50.171875 \r\nQ 54.890625 44.34375 54.890625 33.015625 \r\nz\r\n\" id=\"DejaVuSans-110\"/>\r\n      <path id=\"DejaVuSans-32\"/>\r\n      <path d=\"M 9.8125 72.90625 \r\nL 19.671875 72.90625 \r\nL 19.671875 42.09375 \r\nL 52.390625 72.90625 \r\nL 65.09375 72.90625 \r\nL 28.90625 38.921875 \r\nL 67.671875 0 \r\nL 54.6875 0 \r\nL 19.671875 35.109375 \r\nL 19.671875 0 \r\nL 9.8125 0 \r\nz\r\n\" id=\"DejaVuSans-75\"/>\r\n      <path d=\"M 56.203125 29.59375 \r\nL 56.203125 25.203125 \r\nL 14.890625 25.203125 \r\nQ 15.484375 15.921875 20.484375 11.0625 \r\nQ 25.484375 6.203125 34.421875 6.203125 \r\nQ 39.59375 6.203125 44.453125 7.46875 \r\nQ 49.3125 8.734375 54.109375 11.28125 \r\nL 54.109375 2.78125 \r\nQ 49.265625 0.734375 44.1875 -0.34375 \r\nQ 39.109375 -1.421875 33.890625 -1.421875 \r\nQ 20.796875 -1.421875 13.15625 6.1875 \r\nQ 5.515625 13.8125 5.515625 26.8125 \r\nQ 5.515625 40.234375 12.765625 48.109375 \r\nQ 20.015625 56 32.328125 56 \r\nQ 43.359375 56 49.78125 48.890625 \r\nQ 56.203125 41.796875 56.203125 29.59375 \r\nz\r\nM 47.21875 32.234375 \r\nQ 47.125 39.59375 43.09375 43.984375 \r\nQ 39.0625 48.390625 32.421875 48.390625 \r\nQ 24.90625 48.390625 20.390625 44.140625 \r\nQ 15.875 39.890625 15.1875 32.171875 \r\nz\r\n\" id=\"DejaVuSans-101\"/>\r\n      <path d=\"M 41.109375 46.296875 \r\nQ 39.59375 47.171875 37.8125 47.578125 \r\nQ 36.03125 48 33.890625 48 \r\nQ 26.265625 48 22.1875 43.046875 \r\nQ 18.109375 38.09375 18.109375 28.8125 \r\nL 18.109375 0 \r\nL 9.078125 0 \r\nL 9.078125 54.6875 \r\nL 18.109375 54.6875 \r\nL 18.109375 46.1875 \r\nQ 20.953125 51.171875 25.484375 53.578125 \r\nQ 30.03125 56 36.53125 56 \r\nQ 37.453125 56 38.578125 55.875 \r\nQ 39.703125 55.765625 41.0625 55.515625 \r\nz\r\n\" id=\"DejaVuSans-114\"/>\r\n      <path d=\"M 9.421875 75.984375 \r\nL 18.40625 75.984375 \r\nL 18.40625 0 \r\nL 9.421875 0 \r\nz\r\n\" id=\"DejaVuSans-108\"/>\r\n      <path d=\"M 19.671875 64.796875 \r\nL 19.671875 8.109375 \r\nL 31.59375 8.109375 \r\nQ 46.6875 8.109375 53.6875 14.9375 \r\nQ 60.6875 21.78125 60.6875 36.53125 \r\nQ 60.6875 51.171875 53.6875 57.984375 \r\nQ 46.6875 64.796875 31.59375 64.796875 \r\nz\r\nM 9.8125 72.90625 \r\nL 30.078125 72.90625 \r\nQ 51.265625 72.90625 61.171875 64.09375 \r\nQ 71.09375 55.28125 71.09375 36.53125 \r\nQ 71.09375 17.671875 61.125 8.828125 \r\nQ 51.171875 0 30.078125 0 \r\nL 9.8125 0 \r\nz\r\n\" id=\"DejaVuSans-68\"/>\r\n      <path d=\"M 18.3125 70.21875 \r\nL 18.3125 54.6875 \r\nL 36.8125 54.6875 \r\nL 36.8125 47.703125 \r\nL 18.3125 47.703125 \r\nL 18.3125 18.015625 \r\nQ 18.3125 11.328125 20.140625 9.421875 \r\nQ 21.96875 7.515625 27.59375 7.515625 \r\nL 36.8125 7.515625 \r\nL 36.8125 0 \r\nL 27.59375 0 \r\nQ 17.1875 0 13.234375 3.875 \r\nQ 9.28125 7.765625 9.28125 18.015625 \r\nL 9.28125 47.703125 \r\nL 2.6875 47.703125 \r\nL 2.6875 54.6875 \r\nL 9.28125 54.6875 \r\nL 9.28125 70.21875 \r\nz\r\n\" id=\"DejaVuSans-116\"/>\r\n      <path d=\"M 32.171875 -5.078125 \r\nQ 28.375 -14.84375 24.75 -17.8125 \r\nQ 21.140625 -20.796875 15.09375 -20.796875 \r\nL 7.90625 -20.796875 \r\nL 7.90625 -13.28125 \r\nL 13.1875 -13.28125 \r\nQ 16.890625 -13.28125 18.9375 -11.515625 \r\nQ 21 -9.765625 23.484375 -3.21875 \r\nL 25.09375 0.875 \r\nL 2.984375 54.6875 \r\nL 12.5 54.6875 \r\nL 29.59375 11.921875 \r\nL 46.6875 54.6875 \r\nL 56.203125 54.6875 \r\nz\r\n\" id=\"DejaVuSans-121\"/>\r\n     </defs>\r\n     <use xlink:href=\"#DejaVuSans-71\"/>\r\n     <use x=\"77.490234\" xlink:href=\"#DejaVuSans-97\"/>\r\n     <use x=\"138.769531\" xlink:href=\"#DejaVuSans-117\"/>\r\n     <use x=\"202.148438\" xlink:href=\"#DejaVuSans-115\"/>\r\n     <use x=\"254.248047\" xlink:href=\"#DejaVuSans-115\"/>\r\n     <use x=\"306.347656\" xlink:href=\"#DejaVuSans-105\"/>\r\n     <use x=\"334.130859\" xlink:href=\"#DejaVuSans-97\"/>\r\n     <use x=\"395.410156\" xlink:href=\"#DejaVuSans-110\"/>\r\n     <use x=\"458.789062\" xlink:href=\"#DejaVuSans-32\"/>\r\n     <use x=\"490.576172\" xlink:href=\"#DejaVuSans-75\"/>\r\n     <use x=\"551.152344\" xlink:href=\"#DejaVuSans-101\"/>\r\n     <use x=\"612.675781\" xlink:href=\"#DejaVuSans-114\"/>\r\n     <use x=\"652.039062\" xlink:href=\"#DejaVuSans-110\"/>\r\n     <use x=\"715.417969\" xlink:href=\"#DejaVuSans-101\"/>\r\n     <use x=\"776.941406\" xlink:href=\"#DejaVuSans-108\"/>\r\n     <use x=\"804.724609\" xlink:href=\"#DejaVuSans-32\"/>\r\n     <use x=\"836.511719\" xlink:href=\"#DejaVuSans-68\"/>\r\n     <use x=\"913.513672\" xlink:href=\"#DejaVuSans-101\"/>\r\n     <use x=\"975.037109\" xlink:href=\"#DejaVuSans-110\"/>\r\n     <use x=\"1038.416016\" xlink:href=\"#DejaVuSans-115\"/>\r\n     <use x=\"1090.515625\" xlink:href=\"#DejaVuSans-105\"/>\r\n     <use x=\"1118.298828\" xlink:href=\"#DejaVuSans-116\"/>\r\n     <use x=\"1157.507812\" xlink:href=\"#DejaVuSans-121\"/>\r\n    </g>\r\n   </g>\r\n  </g>\r\n </g>\r\n <defs>\r\n  <clipPath id=\"p2b1250278b\">\r\n   <rect height=\"106.068293\" width=\"163.317073\" x=\"519.421729\" y=\"118.571707\"/>\r\n  </clipPath>\r\n </defs>\r\n</svg>\r\n",
      "image/png": "[encoded data removed]"
     },
     "metadata": {
      "needs_background": "light"
     }
    }
   ],
   "source": [
    "import numpy as np\n",
    "import matplotlib\n",
    "import matplotlib.pyplot as plt\n",
    "from scipy.stats import norm\n",
    "from sklearn.neighbors import KernelDensity\n",
    "from sklearn.utils.fixes import parse_version\n",
    "\n",
    "\n",
    "X_plot = np.linspace(0, 1, 1000)[:, np.newaxis]\n",
    "bins = np.linspace(0, 1, 10)\n",
    "fig, ax = plt.subplots(2, 2, sharex=True, sharey=True)\n",
    "fig.subplots_adjust(hspace=0.05, wspace=0.05)\n",
    "\n",
    "log_dens = data[0].score_samples(X_plot)\n",
    "ax[1, 1].fill(X_plot[:, 0], np.exp(log_dens), fc='#AAAAFF')\n",
    "ax[1, 1].text(-3.5, 0.31, \"Gaussian Kernel Density\")\n",
    "\n"
   ]
  },
  {
   "cell_type": "code",
   "execution_count": 63,
   "metadata": {},
   "outputs": [
    {
     "output_type": "stream",
     "name": "stderr",
     "text": [
      "UsageError: Line magic function `%install_ext` not found.\n"
     ]
    }
   ],
   "source": [
    "%install_ext https://raw.github.com/cpcloud/ipython-autotime/master/autotime.py\n",
    "%load_ext autotime"
   ]
  },
  {
   "cell_type": "code",
   "execution_count": 131,
   "metadata": {},
   "outputs": [],
   "source": [
    "import numpy as np\n",
    "from sklearn.neighbors import KDTree\n",
    "from sklearn.neighbors import KNeighborsClassifier\n",
    "import torch.nn as nn\n",
    "import torch"
   ]
  },
  {
   "cell_type": "code",
   "execution_count": 42,
   "metadata": {},
   "outputs": [],
   "source": [
    "def my_distance(x, y, **kwargs):\n",
    "    # print(kwargs)\n",
    "    cos = nn.CosineSimilarity(dim=0, eps=1e-6)\n",
    "\n",
    "    return float( cos(torch.tensor(x), torch.tensor(y)) )"
   ]
  },
  {
   "cell_type": "code",
   "execution_count": 1,
   "metadata": {},
   "outputs": [],
   "source": [
    "def build_index(x):\n",
    "    res = np.zeros( (len(x), 2048), dtype=\"float16\" )\n",
    "    c = 0\n",
    "    for idx, row in x.iterrows():\n",
    "        res[c] = torch.load(row[\"Path\"]+\"/indiv_features.pt\")[row[\"Idx\"]]\n",
    "        c+= 1\n",
    "    return res   "
   ]
  },
  {
   "cell_type": "code",
   "execution_count": 132,
   "metadata": {},
   "outputs": [
    {
     "output_type": "stream",
     "name": "stdout",
     "text": [
      "Wall time: 1.68 s\n"
     ]
    },
    {
     "output_type": "execute_result",
     "data": {
      "text/plain": [
       "0.7282089400794507"
      ]
     },
     "metadata": {},
     "execution_count": 132
    }
   ],
   "source": [
    "%%time\n",
    "n = 10000\n",
    "rng = np.random.RandomState(0)\n",
    "X = rng.random_sample((n, 2048))\n",
    "Y = np.random.randint(0, 92, n)\n",
    "# build_index(n)\n",
    "knn = NearestNeighbors(algorithm=\"brute\", n_neighbors=1, metric=my_distance)\n",
    "knn.fit(X, Y)\n",
    "# knn.predict(rng.random_sample((1, 2048)))\n",
    "knn.kneighbors(rng.random_sample((1, 2048)))[0][0][0]\n",
    "\n",
    "rng = np.random.RandomState(0)\n",
    "X = rng.random_sample((n, 2048))\n",
    "Y = np.random.randint(0, 92, n)\n",
    "# build_index(n)\n",
    "knn = NearestNeighbors(algorithm=\"brute\", n_neighbors=1, metric=my_distance)\n",
    "knn.fit(X, Y)\n",
    "# knn.predict(rng.random_sample((1, 2048)))\n",
    "knn.kneighbors(rng.random_sample((1, 2048)))[0][0][0]\n",
    "\n"
   ]
  },
  {
   "cell_type": "code",
   "execution_count": 75,
   "metadata": {
    "tags": []
   },
   "outputs": [
    {
     "output_type": "stream",
     "name": "stdout",
     "text": [
      "Wall time: 1.26 s\n"
     ]
    },
    {
     "output_type": "execute_result",
     "data": {
      "text/plain": [
       "array([37])"
      ]
     },
     "metadata": {},
     "execution_count": 75
    }
   ],
   "source": [
    "%%time\n",
    "knn.predict(rng.random_sample((1, 2048)))"
   ]
  },
  {
   "cell_type": "code",
   "execution_count": 113,
   "metadata": {},
   "outputs": [],
   "source": [
    "test = rng.random_sample((2, 2048))"
   ]
  },
  {
   "cell_type": "code",
   "execution_count": 119,
   "metadata": {},
   "outputs": [],
   "source": [
    "test = np.delete(test, 0, 0)"
   ]
  },
  {
   "cell_type": "code",
   "execution_count": 4,
   "metadata": {},
   "outputs": [
    {
     "output_type": "stream",
     "name": "stderr",
     "text": [
      "Building Indices: 100%|██████████| 66/66 [01:49<00:00,  1.66s/it]\n"
     ]
    }
   ],
   "source": [
    "### Build indexes so wer are nott doing it live\n",
    "import pickle\n",
    "import pandas as pd\n",
    "from tqdm import tqdm\n",
    "import numpy as np\n",
    "import torch\n",
    "csv = pd.read_csv(\"data/{}/features.csv\".format(\"test_non_torch\"), names=[\"Idx\", \"Class\", \"Path\"])\n",
    "same_indexes = {} ; diff_indexes = {}\n",
    "classes = csv[\"Class\"].unique()\n",
    "\n",
    "for cl in tqdm(classes, desc=\"Building Indices\"):\n",
    "    same = csv.loc[csv[\"Class\"] == cl].drop_duplicates()\n",
    "    diff = csv.loc[csv[\"Class\"] != cl].drop_duplicates()\n",
    "\n",
    "    sample_length = min( 5000, len(same) )\n",
    "\n",
    "    same_indexes[cl] = build_index(same.sample(sample_length))\n",
    "    diff_indexes[cl] = build_index(diff.sample(5000))\n"
   ]
  },
  {
   "cell_type": "code",
   "execution_count": 5,
   "metadata": {},
   "outputs": [],
   "source": [
    "with open(\"data/test_non_torch/same_index.pckl\", \"wb\") as f, open(\"data/test_non_torch/diff_index.pckl\", \"wb\") as f1:\n",
    "    pickle.dump(same_indexes, f)\n",
    "    pickle.dump(diff_indexes, f1)"
   ]
  },
  {
   "cell_type": "code",
   "execution_count": null,
   "metadata": {},
   "outputs": [],
   "source": []
  }
 ]
}