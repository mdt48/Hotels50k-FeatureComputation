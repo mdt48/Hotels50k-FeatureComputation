{
 "metadata": {
  "language_info": {
   "codemirror_mode": {
    "name": "ipython",
    "version": 3
   },
   "file_extension": ".py",
   "mimetype": "text/x-python",
   "name": "python",
   "nbconvert_exporter": "python",
   "pygments_lexer": "ipython3",
   "version": "3.7.7-final"
  },
  "orig_nbformat": 2,
  "kernelspec": {
   "name": "python37764bitsemsegpy37conda8dc00fd5bde141089e99646c7805a034",
   "display_name": "Python 3.7.7 64-bit ('semsegpy37': conda)",
   "language": "python"
  }
 },
 "nbformat": 4,
 "nbformat_minor": 2,
 "cells": [
  {
   "cell_type": "code",
   "execution_count": 77,
   "metadata": {},
   "outputs": [],
   "source": [
    "import torch\n",
    "import numpy as np\n",
    "import os \n",
    "from glob import glob\n",
    "import shutil\n",
    "import faiss\n",
    "from tqdm import tqdm"
   ]
  },
  {
   "cell_type": "code",
   "execution_count": 119,
   "metadata": {},
   "outputs": [],
   "source": [
    "hotels = sorted(glob(\"features\" + \"/**/fts.pt\", recursive=True), key=lambda x: x.split(\"/\")[1])"
   ]
  },
  {
   "cell_type": "code",
   "execution_count": 126,
   "metadata": {},
   "outputs": [
    {
     "output_type": "stream",
     "name": "stderr",
     "text": [
      "16167it [00:19, 840.47it/s]\n"
     ]
    }
   ],
   "source": [
    "nb = len(hotels)\n",
    "d = 2048\n",
    "vectors = np.ones((nb, d),dtype=\"float32\")\n",
    "for idx, hotel in tqdm(enumerate(hotels[:-2])):\n",
    "    vector = torch.load(hotel).cpu().numpy().astype('float32')\n",
    "    vectors[idx] = vector[0]\n",
    "faiss.normalize_L2(vectors)\n"
   ]
  },
  {
   "cell_type": "code",
   "execution_count": 134,
   "metadata": {},
   "outputs": [],
   "source": [
    "index = faiss.IndexFlatL2(d)\n",
    "index.add(vectors)\n",
    "index.metric_arg = 0"
   ]
  },
  {
   "cell_type": "code",
   "execution_count": 137,
   "metadata": {},
   "outputs": [],
   "source": [
    "# search\n",
    "k = 10\n",
    "query = np.ones((1, 2048),dtype=\"float32\")\n",
    "query[0] = faiss.normalize_L2(torch.load(hotels[3]).cpu().numpy().astype('float32'))\n",
    "D, I = index.search(query, k)\n"
   ]
  },
  {
   "cell_type": "code",
   "execution_count": 138,
   "metadata": {},
   "outputs": [
    {
     "output_type": "stream",
     "name": "stdout",
     "text": [
      "💲 0: 92_203923_3946486\n💲 1: 92_203923_3946486\n💲 2: 92_203923_3946486\n💲 3: 92_203923_3946486\n💲 4: 92_203923_3946486\n💲 5: 92_203923_3946486\n💲 6: 92_203923_3946486\n💲 7: 92_203923_3946486\n💲 8: 92_203923_3946486\n💲 9: 92_203923_3946486\n"
     ]
    }
   ],
   "source": [
    "for idx, i in enumerate(I[0]):\n",
    "    ids = hotels[i].split(\"/\")\n",
    "\n",
    "    status = None\n",
    "    if ids[1] == hotels[-1].split(\"/\")[1]:\n",
    "        status = \"💲\"\n",
    "    else:\n",
    "        status = \"💢\"\n",
    "    print(\"{} {}: {}_{}_{}\".format(status, idx, ids[1], ids[2], ids[3]))"
   ]
  },
  {
   "cell_type": "code",
   "execution_count": 93,
   "metadata": {},
   "outputs": [
    {
     "output_type": "execute_result",
     "data": {
      "text/plain": [
       "tensor(2.0478, device='cuda:0')"
      ]
     },
     "metadata": {},
     "execution_count": 93
    }
   ],
   "source": [
    "torch.dot(a[0], b[0])"
   ]
  },
  {
   "cell_type": "code",
   "execution_count": 98,
   "metadata": {},
   "outputs": [
    {
     "output_type": "execute_result",
     "data": {
      "text/plain": [
       "(16168, 2048)"
      ]
     },
     "metadata": {},
     "execution_count": 98
    }
   ],
   "source": [
    "vectors.shape"
   ]
  },
  {
   "cell_type": "code",
   "execution_count": 100,
   "metadata": {},
   "outputs": [
    {
     "output_type": "execute_result",
     "data": {
      "text/plain": [
       "array([[0.01687881, 0.01146454, 0.01401104, ..., 0.01713693, 0.04619217,\n",
       "        0.01174062],\n",
       "       [0.01950688, 0.02092036, 0.00700461, ..., 0.01373984, 0.04748718,\n",
       "        0.01448745],\n",
       "       [0.02676812, 0.01838049, 0.00808393, ..., 0.01512528, 0.0567761 ,\n",
       "        0.01294369],\n",
       "       ...,\n",
       "       [0.00190266, 0.00939624, 0.01234127, ..., 0.0304039 , 0.05479761,\n",
       "        0.00705713],\n",
       "       [0.01133883, 0.02877895, 0.00502093, ..., 0.02175619, 0.03463512,\n",
       "        0.0209991 ],\n",
       "       [0.00480975, 0.00302972, 0.00479031, ..., 0.0124102 , 0.05026117,\n",
       "        0.00988873]], dtype=float32)"
      ]
     },
     "metadata": {},
     "execution_count": 100
    }
   ],
   "source": [
    "faiss.normalize_L2(vectors)\r\n",
    "vectors"
   ]
  },
  {
   "cell_type": "code",
   "execution_count": 103,
   "metadata": {},
   "outputs": [
    {
     "output_type": "execute_result",
     "data": {
      "text/plain": [
       "array([[0.01687882, 0.01146454, 0.01401104, ..., 0.01713693, 0.04619217,\n",
       "        0.01174062],\n",
       "       [0.01950688, 0.02092036, 0.00700461, ..., 0.01373984, 0.04748718,\n",
       "        0.01448745],\n",
       "       [0.02676811, 0.01838048, 0.00808393, ..., 0.01512528, 0.05677608,\n",
       "        0.01294368],\n",
       "       ...,\n",
       "       [0.01133883, 0.02877895, 0.00502093, ..., 0.02175619, 0.03463512,\n",
       "        0.0209991 ],\n",
       "       [0.00480975, 0.00302972, 0.00479031, ..., 0.0124102 , 0.05026116,\n",
       "        0.00988873],\n",
       "       [0.01065265, 0.01799611, 0.00998312, ..., 0.02168983, 0.04425137,\n",
       "        0.00599204]], dtype=float32)"
      ]
     },
     "metadata": {},
     "execution_count": 103
    }
   ],
   "source": [
    "faiss.normalize_L2(vectors)\n",
    "vectors"
   ]
  }
 ]
}