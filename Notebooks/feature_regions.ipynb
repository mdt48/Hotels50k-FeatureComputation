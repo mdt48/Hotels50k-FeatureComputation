{
 "metadata": {
  "language_info": {
   "codemirror_mode": {
    "name": "ipython",
    "version": 3
   },
   "file_extension": ".py",
   "mimetype": "text/x-python",
   "name": "python",
   "nbconvert_exporter": "python",
   "pygments_lexer": "ipython3",
   "version": "3.7.7"
  },
  "orig_nbformat": 2,
  "kernelspec": {
   "name": "python377jvsc74a57bd0fe7e08d22f0b7a7228f26711f9095619d2b891210ff354f7322304823d805420",
   "display_name": "Python 3.7.7 64-bit ('semsegpy37': conda)"
  },
  "metadata": {
   "interpreter": {
    "hash": "fe7e08d22f0b7a7228f26711f9095619d2b891210ff354f7322304823d805420"
   }
  }
 },
 "nbformat": 4,
 "nbformat_minor": 2,
 "cells": [
  {
   "cell_type": "code",
   "execution_count": 1,
   "metadata": {},
   "outputs": [],
   "source": [
    "import pandas as pd\n",
    "from tqdm import tqdm\n",
    "import random\n",
    "import itertools\n",
    "import torch.nn as nn\n",
    "import torch\n",
    "from sklearn.neighbors import KernelDensity\n",
    "import numpy as np\n",
    "import matplotlib\n",
    "import matplotlib.pyplot as plt\n",
    "from scipy.stats import norm\n",
    "import plotly.figure_factory as ff\n",
    "\n",
    "random.seed(42)\n",
    "cos = nn.CosineSimilarity(dim=0, eps=1e-6)"
   ]
  },
  {
   "cell_type": "code",
   "execution_count": 2,
   "metadata": {},
   "outputs": [],
   "source": [
    "def normalize_lists(l1, l2):\n",
    "    n = len(l1)\n",
    "\n",
    "    l2 = l2.sample(n=n, random_state=42)\n",
    "\n",
    "    return l1, l2"
   ]
  },
  {
   "cell_type": "code",
   "execution_count": 23,
   "metadata": {},
   "outputs": [],
   "source": [
    "def sim(same, diff, cl):\n",
    "    same = same.reset_index(drop=True)\n",
    "    diff = diff.reset_index(drop=True)\n",
    "\n",
    "    same_pairs = list(itertools.combinations(same.index.to_list(), 2))\n",
    "    diff_pairs = list(itertools.combinations(diff.index.to_list(), 2))\n",
    "\n",
    "    n = min(2000, len(same_pairs))\n",
    "\n",
    "    same_pairs = random.sample(same_pairs, n)\n",
    "    diff_pairs = random.sample(diff_pairs, n)\n",
    "\n",
    "    root = \"/pless_nfs/home/mdt_/Hotels50-FeatureComputation/\"\n",
    "\n",
    "    same_sim, diff_sim = [], []\n",
    "\n",
    "    for item in zip(same_pairs, diff_pairs):\n",
    "        s1 = root + same.iloc[item[0][0]][\"Path\"] + \"/indiv_features1.pt\"\n",
    "        s2 = root + same.iloc[item[0][1]][\"Path\"] + \"/indiv_features1.pt\"\n",
    "        \n",
    "        d1 = root + diff.iloc[item[1][0]][\"Path\"] + \"/indiv_features1.pt\"\n",
    "        d2 = root + diff.iloc[item[1][1]][\"Path\"] + \"/indiv_features1.pt\"\n",
    "\n",
    "        same_sim.append( float(cos(torch.load(s1)[same.iloc[item[0][0]][\"Idx\"]], torch.load(s2)[same.iloc[item[0][1]][\"Idx\"]])) )\n",
    "        diff_sim.append( float(cos(torch.load(d1)[diff.iloc[item[1][0]][\"Idx\"]], torch.load(d2)[diff.iloc[item[1][1]][\"Idx\"]])) )\n",
    "        \n",
    "\n",
    "    return same_sim, diff_sim\n",
    "\n"
   ]
  },
  {
   "cell_type": "code",
   "execution_count": 4,
   "metadata": {},
   "outputs": [],
   "source": [
    "csv = pd.read_csv(\"/pless_nfs/home/mdt_/Hotels50-FeatureComputation/data/train/features.csv\", names=[\"Idx\", \"Class\", \"Path\"])\n",
    "csv[\"Instance\"] = [row.split(\"/\")[3] for row in csv[\"Path\"]]"
   ]
  },
  {
   "cell_type": "code",
   "execution_count": 5,
   "metadata": {},
   "outputs": [],
   "source": [
    "instances = csv[\"Instance\"].unique()\n",
    "classes = csv[\"Class\"].unique()"
   ]
  },
  {
   "cell_type": "code",
   "execution_count": 6,
   "metadata": {},
   "outputs": [
    {
     "output_type": "execute_result",
     "data": {
      "text/plain": [
       "0    tewtwall\n",
       "Name: Name, dtype: object"
      ]
     },
     "metadata": {},
     "execution_count": 6
    }
   ],
   "source": [
    "ade_classes = pd.read_csv(\"/pless_nfs/home/mdt_/Hotels50-FeatureComputation/data/features_150.csv\")\n",
    "\"tewt\" + ade_classes.loc[ade_classes[\"Idx\"] == 1][\"Name\"]"
   ]
  },
  {
   "cell_type": "code",
   "execution_count": 24,
   "metadata": {
    "tags": []
   },
   "outputs": [
    {
     "output_type": "stream",
     "name": "stderr",
     "text": [
      "  0%|          | 0/144 [00:00<?, ?it/s]\n",
      "  0%|          | 0/7572 [00:00<?, ?it/s]\u001b[A"
     ]
    }
   ],
   "source": [
    "for cl in tqdm(classes):\n",
    "    total_same, total_diff = [], []\n",
    "\n",
    "    set(csv.loc[csv[\"Class\"] == cl][\"Instance\"].to_list())\n",
    "\n",
    "    for instance in tqdm(instances):\n",
    "    \n",
    "        same, diff = csv.loc[csv[\"Instance\"] == instance], csv.loc[csv[\"Instance\"] != instance]\n",
    "        same_sim, diff_sim = sim(same, diff, cl)\n",
    "        total_same.extend(same)\n",
    "        total_diff.extend(diff)\n",
    "        # print(\"SAME: \" + str(same_sim), \"DIFF: \" + str(diff_sim), sep=\"\\n\")\n",
    "        # kde_same = KernelDensity(kernel='gaussian', bandwidth=0.2).fit(np.array(same_sim).reshape(-1, 1))\n",
    "        # kde_diff = KernelDensity(kernel='gaussian', bandwidth=0.2).fit(np.array(diff_sim).reshape(-1, 1))\n",
    "\n",
    "        # x = np.array(same_sim).reshape(-1, 1)\n",
    "        # x_d = np.linspace(-1, 2, 1000)\n",
    "        # logprob = kde_same.score_samples(x_d[:, None])\n",
    "        # plt.fill_between(x_d, np.exp(logprob), alpha=0.5)\n",
    "        # plt.plot(x, np.full_like(x, -0.01), '|k', markeredgewidth=1)\n",
    "        # plt.ylim(0, 2)\n",
    "\n",
    "\n",
    "    group_labels = ['Same', 'Diff']\n",
    "    colors = ['#333F44', '#37AA9C']\n",
    "\n",
    "    # Create distplot with curve_type set to 'normal'\n",
    "    fig = ff.create_distplot([total_same, total_diff], group_labels, show_hist=False, colors=colors, show_rug=False)\n",
    "\n",
    "    # Add title\n",
    "    fig.update_layout(title_text='Feature: {}- Similarities Same and Diff Inst of Hotels'.format(feature))\n",
    "    fig.show()\n",
    "\n",
    "    feature = ade_classes.loc[ade_classes[\"Idx\"] == cl][\"Name\"]\n",
    "    path = \"data/figures/train/{}/\".format(feature)\n",
    "    os.makedirs(path)\n",
    "\n",
    "    fig.write_image(path + \"same-diff-instances.png\")\n",
    "\n",
    "            \n"
   ]
  },
  {
   "cell_type": "code",
   "execution_count": 22,
   "metadata": {},
   "outputs": [
    {
     "output_type": "execute_result",
     "data": {
      "text/plain": [
       "1988"
      ]
     },
     "metadata": {},
     "execution_count": 22
    }
   ],
   "source": [
    "len(set(csv.loc[csv[\"Class\"] == 6][\"Instance\"].to_list()))"
   ]
  }
 ]
}